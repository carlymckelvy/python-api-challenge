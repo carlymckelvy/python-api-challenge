{
 "cells": [
  {
   "cell_type": "markdown",
   "metadata": {},
   "source": [
    "# WeatherPy\n",
    "----\n",
    "\n",
    "#### Note\n",
    "* Instructions have been included for each segment. You do not have to follow them exactly, but they are included to help you think through the steps."
   ]
  },
  {
   "cell_type": "code",
   "execution_count": 1,
   "metadata": {
    "scrolled": true
   },
   "outputs": [],
   "source": [
    "# Dependencies and Setup\n",
    "import matplotlib.pyplot as plt\n",
    "import pandas as pd\n",
    "import numpy as np\n",
    "import requests\n",
    "import time\n",
    "from scipy.stats import linregress\n",
    "\n",
    "# Import API key\n",
    "from api_keys import weather_api_key\n",
    "\n",
    "# Incorporated citipy to determine city based on latitude and longitude\n",
    "from citipy import citipy\n",
    "\n",
    "# Output File (CSV)\n",
    "output_data_file = \"output_data/cities.csv\"\n",
    "\n",
    "# Range of latitudes and longitudes\n",
    "lat_range = (-90, 90)\n",
    "lng_range = (-180, 180)"
   ]
  },
  {
   "cell_type": "markdown",
   "metadata": {},
   "source": [
    "## Generate Cities List"
   ]
  },
  {
   "cell_type": "code",
   "execution_count": 2,
   "metadata": {},
   "outputs": [
    {
     "data": {
      "text/plain": [
       "597"
      ]
     },
     "execution_count": 2,
     "metadata": {},
     "output_type": "execute_result"
    }
   ],
   "source": [
    "# List for holding lat_lngs and cities\n",
    "lat_lngs = []\n",
    "cities = []\n",
    "\n",
    "# Create a set of random lat and lng combinations\n",
    "lats = np.random.uniform(lat_range[0], lat_range[1], size=1500)\n",
    "lngs = np.random.uniform(lng_range[0], lng_range[1], size=1500)\n",
    "lat_lngs = zip(lats, lngs)\n",
    "\n",
    "# Identify nearest city for each lat, lng combination\n",
    "for lat_lng in lat_lngs:\n",
    "    city = citipy.nearest_city(lat_lng[0], lat_lng[1]).city_name\n",
    "    \n",
    "    # If the city is unique, then add it to a our cities list\n",
    "    if city not in cities:\n",
    "        cities.append(city)\n",
    "\n",
    "# Print the city count to confirm sufficient count\n",
    "len(cities)"
   ]
  },
  {
   "cell_type": "markdown",
   "metadata": {},
   "source": [
    "### Perform API Calls\n",
    "* Perform a weather check on each city using a series of successive API calls.\n",
    "* Include a print log of each city as it'sbeing processed (with the city number and city name).\n"
   ]
  },
  {
   "cell_type": "code",
   "execution_count": 12,
   "metadata": {},
   "outputs": [
    {
     "name": "stdout",
     "output_type": "stream",
     "text": [
      "Processing record: 1 of set: 1 | flinders\n",
      "Processing record: 2 of set: 1 | barrow\n",
      "Processing record: 3 of set: 1 | ushuaia\n",
      "Processing record: 4 of set: 1 | chumikan\n",
      "Processing record: 5 of set: 1 | yellowknife\n",
      "Processing record: 6 of set: 1 | victoria\n",
      "Processing record: 7 of set: 1 | puerto ayora\n",
      "Processing record: 8 of set: 1 | port alfred\n",
      "Processing record: 9 of set: 1 | jamestown\n",
      "No weather data found\n",
      "Processing record: 11 of set: 1 | masterton\n",
      "Processing record: 12 of set: 1 | cape town\n",
      "Processing record: 13 of set: 1 | mao\n",
      "Processing record: 14 of set: 1 | douala\n",
      "Processing record: 15 of set: 1 | college\n",
      "Processing record: 16 of set: 1 | krasnyy oktyabr\n",
      "Processing record: 17 of set: 1 | storm lake\n",
      "Processing record: 18 of set: 1 | summerville\n",
      "Processing record: 19 of set: 1 | hithadhoo\n",
      "Processing record: 20 of set: 1 | punta arenas\n",
      "Processing record: 21 of set: 1 | cabo san lucas\n",
      "Processing record: 22 of set: 1 | tuktoyaktuk\n",
      "Processing record: 23 of set: 1 | provideniya\n",
      "Processing record: 24 of set: 1 | susanville\n",
      "No weather data found\n",
      "Processing record: 26 of set: 1 | cartagena\n",
      "Processing record: 27 of set: 1 | chuy\n",
      "Processing record: 28 of set: 1 | georgetown\n",
      "Processing record: 29 of set: 1 | yerbogachen\n",
      "Processing record: 30 of set: 1 | busselton\n",
      "Processing record: 31 of set: 1 | bambous virieux\n",
      "Processing record: 32 of set: 1 | hermanus\n",
      "No weather data found\n",
      "Processing record: 34 of set: 1 | saldanha\n",
      "Processing record: 35 of set: 1 | rikitea\n",
      "Processing record: 36 of set: 1 | guerrero negro\n",
      "Processing record: 37 of set: 1 | gawler\n",
      "Processing record: 38 of set: 1 | matara\n",
      "Processing record: 39 of set: 1 | phayao\n",
      "Processing record: 40 of set: 1 | castro\n",
      "Processing record: 41 of set: 1 | naroda\n",
      "Processing record: 42 of set: 1 | bredasdorp\n",
      "Processing record: 43 of set: 1 | atuona\n",
      "Processing record: 44 of set: 1 | lebu\n",
      "No weather data found\n",
      "No weather data found\n",
      "No weather data found\n",
      "No weather data found\n",
      "Processing record: 49 of set: 1 | lorengau\n",
      "Processing record: 50 of set: 1 | arraial do cabo\n",
      "Processing record: 1 of set: 2 | iquique\n",
      "Processing record: 2 of set: 2 | la ronge\n",
      "Processing record: 3 of set: 2 | goderich\n",
      "Processing record: 4 of set: 2 | never\n",
      "Processing record: 5 of set: 2 | longyearbyen\n",
      "Processing record: 6 of set: 2 | berlevag\n",
      "Processing record: 7 of set: 2 | mount gambier\n",
      "No weather data found\n",
      "Processing record: 9 of set: 2 | rajapur\n",
      "Processing record: 10 of set: 2 | taoudenni\n",
      "Processing record: 11 of set: 2 | cururupu\n",
      "Processing record: 12 of set: 2 | yar-sale\n",
      "Processing record: 13 of set: 2 | nanortalik\n",
      "Processing record: 14 of set: 2 | high prairie\n",
      "Processing record: 15 of set: 2 | tasiilaq\n",
      "Processing record: 16 of set: 2 | maybole\n",
      "Processing record: 17 of set: 2 | dalvik\n",
      "Processing record: 18 of set: 2 | albany\n",
      "Processing record: 19 of set: 2 | yerofey pavlovich\n",
      "No weather data found\n",
      "No weather data found\n",
      "Processing record: 22 of set: 2 | new norfolk\n",
      "Processing record: 23 of set: 2 | nikolskoye\n",
      "Processing record: 24 of set: 2 | bridgetown\n",
      "Processing record: 25 of set: 2 | dingle\n",
      "Processing record: 26 of set: 2 | mahebourg\n",
      "Processing record: 27 of set: 2 | lompoc\n",
      "Processing record: 28 of set: 2 | port-gentil\n",
      "Processing record: 29 of set: 2 | imbituba\n",
      "Processing record: 30 of set: 2 | mataura\n",
      "Processing record: 31 of set: 2 | navrongo\n",
      "Processing record: 32 of set: 2 | hobart\n",
      "Processing record: 33 of set: 2 | kamenka\n",
      "Processing record: 34 of set: 2 | santona\n",
      "Processing record: 35 of set: 2 | acapulco\n",
      "Processing record: 36 of set: 2 | kloulklubed\n",
      "Processing record: 37 of set: 2 | ambunti\n",
      "Processing record: 38 of set: 2 | tautira\n",
      "Processing record: 39 of set: 2 | ilulissat\n",
      "Processing record: 40 of set: 2 | aripuana\n",
      "Processing record: 41 of set: 2 | severo-kurilsk\n",
      "Processing record: 42 of set: 2 | torbay\n",
      "Processing record: 43 of set: 2 | airai\n",
      "No weather data found\n",
      "Processing record: 45 of set: 2 | ocampo\n",
      "Processing record: 46 of set: 2 | east london\n",
      "Processing record: 47 of set: 2 | butaritari\n",
      "Processing record: 48 of set: 2 | faanui\n",
      "Processing record: 49 of set: 2 | uvinza\n",
      "No weather data found\n",
      "Processing record: 1 of set: 3 | khatanga\n",
      "Processing record: 2 of set: 3 | rudbar\n",
      "Processing record: 3 of set: 3 | saint-philippe\n",
      "No weather data found\n",
      "Processing record: 5 of set: 3 | bambanglipuro\n",
      "Processing record: 6 of set: 3 | aklavik\n",
      "Processing record: 7 of set: 3 | shirokiy\n",
      "Processing record: 8 of set: 3 | grande prairie\n",
      "Processing record: 9 of set: 3 | karanganyar\n",
      "Processing record: 10 of set: 3 | belmonte\n",
      "Processing record: 11 of set: 3 | mancio lima\n",
      "Processing record: 12 of set: 3 | kabalo\n",
      "Processing record: 13 of set: 3 | hilo\n",
      "Processing record: 14 of set: 3 | ust-ilimsk\n",
      "Processing record: 15 of set: 3 | lata\n",
      "No weather data found\n",
      "Processing record: 17 of set: 3 | kapasan\n",
      "Processing record: 18 of set: 3 | dikson\n",
      "Processing record: 19 of set: 3 | upernavik\n",
      "Processing record: 20 of set: 3 | vaini\n",
      "Processing record: 21 of set: 3 | padang\n",
      "Processing record: 22 of set: 3 | smithers\n",
      "Processing record: 23 of set: 3 | maracas\n",
      "No weather data found\n",
      "Processing record: 25 of set: 3 | mar del plata\n",
      "Processing record: 26 of set: 3 | kaitangata\n",
      "Processing record: 27 of set: 3 | clyde river\n",
      "Processing record: 28 of set: 3 | khasan\n",
      "Processing record: 29 of set: 3 | ribeira grande\n",
      "Processing record: 30 of set: 3 | dickinson\n",
      "Processing record: 31 of set: 3 | luderitz\n",
      "Processing record: 32 of set: 3 | malartic\n",
      "Processing record: 33 of set: 3 | thompson\n",
      "Processing record: 34 of set: 3 | kingisepp\n",
      "Processing record: 35 of set: 3 | ancud\n",
      "Processing record: 36 of set: 3 | kodiak\n",
      "Processing record: 37 of set: 3 | port moresby\n",
      "Processing record: 38 of set: 3 | bluff\n",
      "Processing record: 39 of set: 3 | qaanaaq\n",
      "Processing record: 40 of set: 3 | iqaluit\n",
      "Processing record: 41 of set: 3 | saskylakh\n",
      "Processing record: 42 of set: 3 | namibe\n",
      "Processing record: 43 of set: 3 | katsuura\n",
      "Processing record: 44 of set: 3 | ketchikan\n",
      "Processing record: 45 of set: 3 | vardo\n",
      "Processing record: 46 of set: 3 | adana\n",
      "Processing record: 47 of set: 3 | port hardy\n",
      "Processing record: 48 of set: 3 | krasnoselkup\n",
      "Processing record: 49 of set: 3 | atkarsk\n",
      "Processing record: 50 of set: 3 | williston\n",
      "Processing record: 1 of set: 4 | bethel\n",
      "Processing record: 2 of set: 4 | avarua\n",
      "Processing record: 3 of set: 4 | rocha\n",
      "Processing record: 4 of set: 4 | ucluelet\n",
      "No weather data found\n",
      "Processing record: 6 of set: 4 | freeport\n",
      "Processing record: 7 of set: 4 | morros\n",
      "Processing record: 8 of set: 4 | aden\n",
      "Processing record: 9 of set: 4 | eirunepe\n",
      "Processing record: 10 of set: 4 | kudahuvadhoo\n",
      "Processing record: 11 of set: 4 | chokurdakh\n",
      "Processing record: 12 of set: 4 | mayumba\n",
      "Processing record: 13 of set: 4 | mudgee\n",
      "Processing record: 14 of set: 4 | ponta do sol\n",
      "Processing record: 15 of set: 4 | aginskoye\n",
      "Processing record: 16 of set: 4 | yumen\n",
      "Processing record: 17 of set: 4 | mangrol\n",
      "Processing record: 18 of set: 4 | sioux lookout\n",
      "Processing record: 19 of set: 4 | tazovskiy\n",
      "Processing record: 20 of set: 4 | antofagasta\n",
      "Processing record: 21 of set: 4 | rosignol\n",
      "Processing record: 22 of set: 4 | solnechnyy\n",
      "No weather data found\n",
      "Processing record: 24 of set: 4 | charters towers\n",
      "Processing record: 25 of set: 4 | kobyzhcha\n",
      "Processing record: 26 of set: 4 | ponta delgada\n",
      "Processing record: 27 of set: 4 | yamachiche\n",
      "Processing record: 28 of set: 4 | itoman\n",
      "Processing record: 29 of set: 4 | basco\n",
      "Processing record: 30 of set: 4 | treinta y tres\n",
      "Processing record: 31 of set: 4 | sri aman\n",
      "Processing record: 32 of set: 4 | benjamin aceval\n",
      "Processing record: 33 of set: 4 | vitim\n",
      "Processing record: 34 of set: 4 | sinnamary\n",
      "Processing record: 35 of set: 4 | shihezi\n",
      "Processing record: 36 of set: 4 | kavaratti\n",
      "Processing record: 37 of set: 4 | pevek\n",
      "Processing record: 38 of set: 4 | hamilton\n",
      "Processing record: 39 of set: 4 | hofn\n",
      "Processing record: 40 of set: 4 | tripoli\n",
      "Processing record: 41 of set: 4 | killarney\n",
      "Processing record: 42 of set: 4 | kapaa\n",
      "Processing record: 43 of set: 4 | sao jose da coroa grande\n",
      "Processing record: 44 of set: 4 | san borja\n",
      "Processing record: 45 of set: 4 | gouyave\n",
      "Processing record: 46 of set: 4 | dothan\n",
      "Processing record: 47 of set: 4 | kaili\n",
      "Processing record: 48 of set: 4 | saint-francois\n",
      "Processing record: 49 of set: 4 | husavik\n"
     ]
    },
    {
     "name": "stdout",
     "output_type": "stream",
     "text": [
      "Processing record: 50 of set: 4 | nurota\n",
      "Processing record: 1 of set: 5 | phan thiet\n",
      "Processing record: 2 of set: 5 | qinnan\n",
      "No weather data found\n",
      "Processing record: 4 of set: 5 | sale\n",
      "Processing record: 5 of set: 5 | buala\n",
      "Processing record: 6 of set: 5 | whitehorse\n",
      "Processing record: 7 of set: 5 | kluang\n",
      "Processing record: 8 of set: 5 | alofi\n",
      "Processing record: 9 of set: 5 | avesta\n",
      "Processing record: 10 of set: 5 | straseni\n",
      "Processing record: 11 of set: 5 | wonogiri\n",
      "Processing record: 12 of set: 5 | kyra\n",
      "Processing record: 13 of set: 5 | narsaq\n",
      "Processing record: 14 of set: 5 | pirgos\n",
      "Processing record: 15 of set: 5 | bengkulu\n",
      "Processing record: 16 of set: 5 | zhigansk\n",
      "Processing record: 17 of set: 5 | parrita\n",
      "Processing record: 18 of set: 5 | barahona\n",
      "Processing record: 19 of set: 5 | gat\n",
      "Processing record: 20 of set: 5 | ararat\n",
      "Processing record: 21 of set: 5 | quatre cocos\n",
      "Processing record: 22 of set: 5 | buchanan\n",
      "Processing record: 23 of set: 5 | san cristobal\n",
      "Processing record: 24 of set: 5 | tonantins\n",
      "Processing record: 25 of set: 5 | neiafu\n",
      "Processing record: 26 of set: 5 | sola\n",
      "Processing record: 27 of set: 5 | pemangkat\n",
      "Processing record: 28 of set: 5 | yarkovo\n",
      "Processing record: 29 of set: 5 | la palma\n",
      "Processing record: 30 of set: 5 | nantucket\n",
      "Processing record: 31 of set: 5 | calama\n",
      "Processing record: 32 of set: 5 | le moule\n",
      "Processing record: 33 of set: 5 | wanaka\n",
      "Processing record: 34 of set: 5 | ostrovnoy\n",
      "Processing record: 35 of set: 5 | abu samrah\n",
      "Processing record: 36 of set: 5 | tuy hoa\n",
      "Processing record: 37 of set: 5 | sao joao da barra\n",
      "Processing record: 38 of set: 5 | rumoi\n",
      "Processing record: 39 of set: 5 | saint george\n",
      "Processing record: 40 of set: 5 | chapais\n",
      "No weather data found\n",
      "Processing record: 42 of set: 5 | sampit\n",
      "Processing record: 43 of set: 5 | asau\n",
      "Processing record: 44 of set: 5 | natal\n",
      "Processing record: 45 of set: 5 | engenheiro beltrao\n",
      "Processing record: 46 of set: 5 | haines junction\n",
      "Processing record: 47 of set: 5 | saint-augustin\n",
      "Processing record: 48 of set: 5 | harper\n",
      "Processing record: 49 of set: 5 | campo verde\n",
      "Processing record: 50 of set: 5 | carutapera\n",
      "Processing record: 1 of set: 6 | kulhudhuffushi\n",
      "No weather data found\n",
      "Processing record: 3 of set: 6 | arys\n",
      "Processing record: 4 of set: 6 | santa lucia\n",
      "Processing record: 5 of set: 6 | puerto cabezas\n",
      "Processing record: 6 of set: 6 | hasanabad\n",
      "Processing record: 7 of set: 6 | margate\n",
      "Processing record: 8 of set: 6 | salalah\n",
      "Processing record: 9 of set: 6 | hearst\n",
      "Processing record: 10 of set: 6 | samarai\n",
      "Processing record: 11 of set: 6 | abu zabad\n",
      "Processing record: 12 of set: 6 | tahta\n",
      "Processing record: 13 of set: 6 | coahuayana\n",
      "Processing record: 14 of set: 6 | sept-iles\n",
      "Processing record: 15 of set: 6 | touros\n",
      "Processing record: 16 of set: 6 | chara\n",
      "Processing record: 17 of set: 6 | santa isabel do rio negro\n",
      "Processing record: 18 of set: 6 | puerto escondido\n",
      "Processing record: 19 of set: 6 | hambantota\n",
      "Processing record: 20 of set: 6 | namatanai\n",
      "Processing record: 21 of set: 6 | kalanguy\n",
      "Processing record: 22 of set: 6 | olivenza\n",
      "Processing record: 23 of set: 6 | klaksvik\n",
      "Processing record: 24 of set: 6 | mobaye\n",
      "Processing record: 25 of set: 6 | austin\n",
      "Processing record: 26 of set: 6 | kikwit\n",
      "Processing record: 27 of set: 6 | atar\n",
      "Processing record: 28 of set: 6 | auki\n",
      "Processing record: 29 of set: 6 | rudnogorsk\n",
      "Processing record: 30 of set: 6 | laguna\n",
      "Processing record: 31 of set: 6 | cranbrook\n",
      "Processing record: 32 of set: 6 | ixtapa\n",
      "Processing record: 33 of set: 6 | north platte\n",
      "Processing record: 34 of set: 6 | klishkivtsi\n",
      "Processing record: 35 of set: 6 | manturovo\n",
      "Processing record: 36 of set: 6 | mena\n",
      "Processing record: 37 of set: 6 | algiers\n",
      "Processing record: 38 of set: 6 | port elizabeth\n",
      "Processing record: 39 of set: 6 | evensk\n",
      "Processing record: 40 of set: 6 | durango\n",
      "Processing record: 41 of set: 6 | lagoa\n",
      "Processing record: 42 of set: 6 | sao filipe\n",
      "Processing record: 43 of set: 6 | olinda\n",
      "Processing record: 44 of set: 6 | yoichi\n",
      "Processing record: 45 of set: 6 | beira\n",
      "Processing record: 46 of set: 6 | pimenta bueno\n",
      "Processing record: 47 of set: 6 | ahipara\n",
      "Processing record: 48 of set: 6 | geraldton\n",
      "Processing record: 49 of set: 6 | souillac\n",
      "Processing record: 50 of set: 6 | varkkallai\n",
      "Processing record: 1 of set: 7 | shubarshi\n",
      "Processing record: 2 of set: 7 | jos\n",
      "No weather data found\n",
      "Processing record: 4 of set: 7 | mayo\n",
      "Processing record: 5 of set: 7 | vavozh\n",
      "Processing record: 6 of set: 7 | kahului\n",
      "No weather data found\n",
      "No weather data found\n",
      "Processing record: 9 of set: 7 | carnarvon\n",
      "Processing record: 10 of set: 7 | luau\n",
      "Processing record: 11 of set: 7 | loiza\n",
      "No weather data found\n",
      "Processing record: 13 of set: 7 | ouadda\n",
      "Processing record: 14 of set: 7 | pascagoula\n",
      "Processing record: 15 of set: 7 | shishou\n",
      "Processing record: 16 of set: 7 | cacule\n",
      "Processing record: 17 of set: 7 | talnakh\n",
      "Processing record: 18 of set: 7 | poum\n",
      "Processing record: 19 of set: 7 | mogadishu\n",
      "Processing record: 20 of set: 7 | batagay-alyta\n",
      "Processing record: 21 of set: 7 | cayenne\n",
      "Processing record: 22 of set: 7 | magadan\n",
      "Processing record: 23 of set: 7 | port hedland\n",
      "Processing record: 24 of set: 7 | komsomolskiy\n",
      "Processing record: 25 of set: 7 | leningradskiy\n",
      "Processing record: 26 of set: 7 | miri\n",
      "Processing record: 27 of set: 7 | inirida\n",
      "Processing record: 28 of set: 7 | nelson bay\n",
      "Processing record: 29 of set: 7 | shenjiamen\n",
      "Processing record: 30 of set: 7 | dakar\n",
      "Processing record: 31 of set: 7 | kyakhta\n",
      "Processing record: 32 of set: 7 | castelo do piaui\n",
      "Processing record: 33 of set: 7 | cabildo\n",
      "Processing record: 34 of set: 7 | muros\n",
      "Processing record: 35 of set: 7 | norman wells\n",
      "Processing record: 36 of set: 7 | inta\n",
      "Processing record: 37 of set: 7 | khorramshahr\n",
      "Processing record: 38 of set: 7 | daitari\n",
      "Processing record: 39 of set: 7 | fallon\n",
      "Processing record: 40 of set: 7 | kenai\n",
      "Processing record: 41 of set: 7 | buraydah\n",
      "No weather data found\n",
      "Processing record: 43 of set: 7 | esperance\n",
      "No weather data found\n",
      "Processing record: 45 of set: 7 | yulara\n",
      "Processing record: 46 of set: 7 | bubaque\n",
      "Processing record: 47 of set: 7 | paramonga\n",
      "Processing record: 48 of set: 7 | pontalina\n",
      "Processing record: 49 of set: 7 | kawalu\n",
      "Processing record: 50 of set: 7 | olafsvik\n",
      "Processing record: 1 of set: 8 | wattegama\n",
      "Processing record: 2 of set: 8 | chermoz\n",
      "Processing record: 3 of set: 8 | arteaga\n",
      "Processing record: 4 of set: 8 | teluknaga\n",
      "Processing record: 5 of set: 8 | sorong\n",
      "Processing record: 6 of set: 8 | ushtobe\n",
      "Processing record: 7 of set: 8 | birin\n",
      "Processing record: 8 of set: 8 | coihaique\n",
      "Processing record: 9 of set: 8 | qui nhon\n",
      "No weather data found\n",
      "Processing record: 11 of set: 8 | dong xoai\n",
      "Processing record: 12 of set: 8 | san patricio\n",
      "Processing record: 13 of set: 8 | gwanda\n",
      "Processing record: 14 of set: 8 | nouadhibou\n",
      "Processing record: 15 of set: 8 | hasaki\n",
      "Processing record: 16 of set: 8 | genhe\n",
      "Processing record: 17 of set: 8 | nizhniy odes\n",
      "No weather data found\n",
      "Processing record: 19 of set: 8 | capitao poco\n",
      "Processing record: 20 of set: 8 | havoysund\n",
      "Processing record: 21 of set: 8 | zhoucheng\n",
      "Processing record: 22 of set: 8 | ambilobe\n",
      "Processing record: 23 of set: 8 | erenhot\n",
      "Processing record: 24 of set: 8 | te anau\n",
      "Processing record: 25 of set: 8 | miles city\n",
      "Processing record: 26 of set: 8 | togur\n",
      "Processing record: 27 of set: 8 | lillooet\n",
      "Processing record: 28 of set: 8 | shimoda\n",
      "Processing record: 29 of set: 8 | grand gaube\n",
      "Processing record: 30 of set: 8 | blackfoot\n",
      "Processing record: 31 of set: 8 | beipiao\n",
      "Processing record: 32 of set: 8 | hajiganj\n",
      "Processing record: 33 of set: 8 | kyabe\n",
      "Processing record: 34 of set: 8 | hovd\n",
      "Processing record: 35 of set: 8 | polunochnoye\n",
      "Processing record: 36 of set: 8 | borba\n",
      "Processing record: 37 of set: 8 | todos santos\n",
      "Processing record: 38 of set: 8 | sirajganj\n",
      "Processing record: 39 of set: 8 | hongjiang\n",
      "Processing record: 40 of set: 8 | mahon\n",
      "Processing record: 41 of set: 8 | homnabad\n",
      "Processing record: 42 of set: 8 | mareeba\n",
      "Processing record: 43 of set: 8 | lagos\n",
      "Processing record: 44 of set: 8 | linfen\n",
      "Processing record: 45 of set: 8 | mamallapuram\n",
      "Processing record: 46 of set: 8 | sibolga\n"
     ]
    },
    {
     "name": "stdout",
     "output_type": "stream",
     "text": [
      "Processing record: 47 of set: 8 | linxia\n",
      "Processing record: 48 of set: 8 | boyolangu\n",
      "Processing record: 49 of set: 8 | nchelenge\n",
      "Processing record: 50 of set: 8 | camacha\n",
      "Processing record: 1 of set: 9 | zemio\n",
      "No weather data found\n",
      "Processing record: 3 of set: 9 | sosnovo-ozerskoye\n",
      "Processing record: 4 of set: 9 | necochea\n",
      "Processing record: 5 of set: 9 | mehamn\n",
      "Processing record: 6 of set: 9 | la romana\n",
      "Processing record: 7 of set: 9 | lorut\n",
      "Processing record: 8 of set: 9 | riyadh\n",
      "Processing record: 9 of set: 9 | abdanan\n",
      "No weather data found\n",
      "Processing record: 11 of set: 9 | ulaangom\n",
      "Processing record: 12 of set: 9 | lewistown\n",
      "Processing record: 13 of set: 9 | vao\n",
      "Processing record: 14 of set: 9 | cherskiy\n",
      "No weather data found\n",
      "Processing record: 16 of set: 9 | pleshanovo\n",
      "Processing record: 17 of set: 9 | axim\n",
      "No weather data found\n",
      "Processing record: 19 of set: 9 | biltine\n",
      "Processing record: 20 of set: 9 | maniitsoq\n",
      "Processing record: 21 of set: 9 | isangel\n",
      "No weather data found\n",
      "No weather data found\n",
      "Processing record: 24 of set: 9 | tuatapere\n",
      "Processing record: 25 of set: 9 | filadelfia\n",
      "Processing record: 26 of set: 9 | batticaloa\n",
      "Processing record: 27 of set: 9 | mayya\n",
      "Processing record: 28 of set: 9 | rio gallegos\n",
      "Processing record: 29 of set: 9 | cidreira\n",
      "Processing record: 30 of set: 9 | evans\n",
      "Processing record: 31 of set: 9 | karabuk\n",
      "Processing record: 32 of set: 9 | spearfish\n",
      "Processing record: 33 of set: 9 | pacific grove\n",
      "Processing record: 34 of set: 9 | akureyri\n",
      "No weather data found\n",
      "Processing record: 36 of set: 9 | saint anthony\n",
      "No weather data found\n",
      "Processing record: 38 of set: 9 | matagami\n",
      "Processing record: 39 of set: 9 | bathsheba\n",
      "Processing record: 40 of set: 9 | vestmannaeyjar\n",
      "Processing record: 41 of set: 9 | faya\n",
      "Processing record: 42 of set: 9 | pahrump\n",
      "Processing record: 43 of set: 9 | nyaunglebin\n",
      "Processing record: 44 of set: 9 | angoche\n",
      "Processing record: 45 of set: 9 | ferme-neuve\n",
      "Processing record: 46 of set: 9 | mbanza-ngungu\n",
      "Processing record: 47 of set: 9 | rawson\n",
      "No weather data found\n",
      "Processing record: 49 of set: 9 | pangnirtung\n",
      "Processing record: 50 of set: 9 | erzin\n",
      "Processing record: 1 of set: 10 | canutama\n",
      "Processing record: 2 of set: 10 | port huron\n",
      "No weather data found\n",
      "Processing record: 4 of set: 10 | shingu\n",
      "Processing record: 5 of set: 10 | tessalit\n",
      "Processing record: 6 of set: 10 | ingham\n",
      "Processing record: 7 of set: 10 | matola\n",
      "No weather data found\n",
      "Processing record: 9 of set: 10 | puerto maldonado\n",
      "Processing record: 10 of set: 10 | tura\n",
      "Processing record: 11 of set: 10 | la asuncion\n",
      "Processing record: 12 of set: 10 | shubarkuduk\n",
      "Processing record: 13 of set: 10 | sarkand\n",
      "Processing record: 14 of set: 10 | diego de almagro\n",
      "Processing record: 15 of set: 10 | redwater\n",
      "Processing record: 16 of set: 10 | nhulunbuy\n",
      "Processing record: 17 of set: 10 | nuuk\n",
      "Processing record: 18 of set: 10 | sobolevo\n",
      "Processing record: 19 of set: 10 | nome\n",
      "No weather data found\n",
      "Processing record: 21 of set: 10 | kamiiso\n",
      "Processing record: 22 of set: 10 | santa maria do suacui\n",
      "Processing record: 23 of set: 10 | sanwer\n",
      "Processing record: 24 of set: 10 | gamba\n",
      "Processing record: 25 of set: 10 | kantang\n",
      "Processing record: 26 of set: 10 | bandarbeyla\n",
      "Processing record: 27 of set: 10 | civitavecchia\n",
      "Processing record: 28 of set: 10 | mercedes\n",
      "Processing record: 29 of set: 10 | naze\n",
      "Processing record: 30 of set: 10 | khandyga\n",
      "Processing record: 31 of set: 10 | batemans bay\n",
      "Processing record: 32 of set: 10 | kavieng\n",
      "Processing record: 33 of set: 10 | lavrentiya\n",
      "Processing record: 34 of set: 10 | karpogory\n",
      "Processing record: 35 of set: 10 | bytow\n",
      "Processing record: 36 of set: 10 | myre\n",
      "Processing record: 37 of set: 10 | benjamin constant\n",
      "Processing record: 38 of set: 10 | cabinda\n",
      "Processing record: 39 of set: 10 | shakawe\n",
      "Processing record: 40 of set: 10 | shakhtinsk\n",
      "Processing record: 41 of set: 10 | kirakira\n",
      "Processing record: 42 of set: 10 | vilhena\n",
      "Processing record: 43 of set: 10 | hun\n",
      "Processing record: 44 of set: 10 | stornoway\n",
      "Processing record: 45 of set: 10 | xinzhou\n",
      "Processing record: 46 of set: 10 | zhezkazgan\n",
      "Processing record: 47 of set: 10 | constitucion\n",
      "Processing record: 48 of set: 10 | warrnambool\n",
      "No weather data found\n",
      "Processing record: 50 of set: 10 | manoharpur\n",
      "Processing record: 1 of set: 11 | san buenaventura\n",
      "Processing record: 2 of set: 11 | caravelas\n",
      "Processing record: 3 of set: 11 | jinka\n",
      "Processing record: 4 of set: 11 | klamath falls\n",
      "Processing record: 5 of set: 11 | xinzhi\n",
      "Processing record: 6 of set: 11 | portland\n",
      "Processing record: 7 of set: 11 | palmer\n",
      "Processing record: 8 of set: 11 | lakes entrance\n",
      "Processing record: 9 of set: 11 | abnub\n",
      "Processing record: 10 of set: 11 | teguise\n",
      "No weather data found\n",
      "Processing record: 12 of set: 11 | dargaville\n",
      "Processing record: 13 of set: 11 | hauterive\n",
      "Processing record: 14 of set: 11 | marystown\n",
      "Processing record: 15 of set: 11 | gwadar\n",
      "Processing record: 16 of set: 11 | zhangye\n",
      "Processing record: 17 of set: 11 | rosetta\n",
      "Processing record: 18 of set: 11 | karratha\n",
      "No weather data found\n",
      "Processing record: 20 of set: 11 | kenora\n",
      "Processing record: 21 of set: 11 | bairiki\n",
      "Processing record: 22 of set: 11 | salinopolis\n",
      "Processing record: 23 of set: 11 | oksfjord\n",
      "Processing record: 24 of set: 11 | sistranda\n",
      "Processing record: 25 of set: 11 | henties bay\n",
      "Processing record: 26 of set: 11 | gorontalo\n",
      "Processing record: 27 of set: 11 | lubango\n",
      "Processing record: 28 of set: 11 | otukpo\n",
      "Processing record: 29 of set: 11 | svetlyy\n",
      "Processing record: 30 of set: 11 | dharmadam\n",
      "Processing record: 31 of set: 11 | vila\n",
      "Processing record: 32 of set: 11 | dzilam gonzalez\n",
      "Processing record: 33 of set: 11 | ongandjera\n",
      "Processing record: 34 of set: 11 | savannah bight\n",
      "Processing record: 35 of set: 11 | bacolod\n",
      "Processing record: 36 of set: 11 | nalut\n",
      "Processing record: 37 of set: 11 | dunedin\n",
      "Processing record: 38 of set: 11 | aykhal\n",
      "Processing record: 39 of set: 11 | krasnyy kut\n",
      "Processing record: 40 of set: 11 | northam\n",
      "Processing record: 41 of set: 11 | sidi ali\n",
      "Processing record: 42 of set: 11 | hualmay\n",
      "No weather data found\n",
      "Processing record: 44 of set: 11 | pasuruan\n",
      "Processing record: 45 of set: 11 | cabedelo\n",
      "Processing record: 46 of set: 11 | mildura\n",
      "Processing record: 47 of set: 11 | butiama\n",
      "Processing record: 48 of set: 11 | san jeronimo\n",
      "Processing record: 49 of set: 11 | mount isa\n",
      "Processing record: 50 of set: 11 | patnos\n",
      "Processing record: 1 of set: 12 | mopti\n",
      "Processing record: 2 of set: 12 | bombay\n",
      "Processing record: 3 of set: 12 | ternate\n",
      "Processing record: 4 of set: 12 | kodinsk\n",
      "Processing record: 5 of set: 12 | nola\n",
      "Processing record: 6 of set: 12 | keuruu\n",
      "Processing record: 7 of set: 12 | berezniki\n",
      "Processing record: 8 of set: 12 | chiang khong\n",
      "Processing record: 9 of set: 12 | tiksi\n",
      "Processing record: 10 of set: 12 | comodoro rivadavia\n",
      "Processing record: 11 of set: 12 | saint-joseph\n",
      "Processing record: 12 of set: 12 | hay river\n",
      "No weather data found\n",
      "Processing record: 14 of set: 12 | sagua la grande\n",
      "Processing record: 15 of set: 12 | morgan city\n",
      "Processing record: 16 of set: 12 | paamiut\n",
      "Processing record: 17 of set: 12 | nuevo progreso\n",
      "Processing record: 18 of set: 12 | maun\n",
      "Processing record: 19 of set: 12 | penzance\n",
      "Processing record: 20 of set: 12 | jijiga\n",
      "Processing record: 21 of set: 12 | swellendam\n",
      "Processing record: 22 of set: 12 | karasuk\n",
      "Processing record: 23 of set: 12 | humberto de campos\n",
      "Processing record: 24 of set: 12 | avigliano\n",
      "Processing record: 25 of set: 12 | young\n",
      "Processing record: 26 of set: 12 | sarangani\n",
      "Processing record: 27 of set: 12 | salvador\n",
      "Processing record: 28 of set: 12 | atikokan\n",
      "Processing record: 29 of set: 12 | khani\n",
      "Processing record: 30 of set: 12 | lodja\n",
      "Processing record: 31 of set: 12 | codrington\n",
      "Processing record: 32 of set: 12 | sterling\n",
      "Processing record: 33 of set: 12 | launceston\n",
      "Processing record: 34 of set: 12 | sisophon\n",
      "Processing record: 35 of set: 12 | arcos\n",
      "Processing record: 36 of set: 12 | mana\n",
      "Processing record: 37 of set: 12 | auce\n",
      "No weather data found\n",
      "Processing record: 39 of set: 12 | takoradi\n",
      "Processing record: 40 of set: 12 | sorland\n",
      "Processing record: 41 of set: 12 | port lincoln\n",
      "Processing record: 42 of set: 12 | lermontovka\n"
     ]
    },
    {
     "name": "stdout",
     "output_type": "stream",
     "text": [
      "Processing record: 43 of set: 12 | nushki\n",
      "Processing record: 44 of set: 12 | mujiayingzi\n",
      "Processing record: 45 of set: 12 | abu kamal\n",
      "Processing record: 46 of set: 12 | almeirim\n",
      "Processing record: 47 of set: 12 | mecca\n"
     ]
    }
   ],
   "source": [
    "url = \"http://api.openweathermap.org/data/2.5/weather?\"\n",
    "units = \"imperial\"\n",
    " \n",
    "#Partial query url\n",
    "query_url = f'{url}appid={weather_api_key}&units={units}&q='\n",
    "\n",
    "#set up lists to hold response info\n",
    "\n",
    "city_name = []\n",
    "lat = []\n",
    "long = []\n",
    "temp = []\n",
    "humidity = []\n",
    "cloudiness = []\n",
    "windspeed = []\n",
    "country = []\n",
    "date = []\n",
    "   \n",
    "city_count = 0\n",
    "sets = 1\n",
    "\n",
    "# Loop through the list of cities and perform a request for data on each\n",
    "for city in cities:\n",
    "    response = requests.get(query_url + city).json()\n",
    "    \n",
    "    if city_count <= 49:\n",
    "        city_count = city_count + 1\n",
    "    else:\n",
    "        city_count = 1\n",
    "        sets = sets + 1\n",
    "        \n",
    "    #print(f\"city count {city_count} and sets {sets}\")\n",
    "    \n",
    "        \n",
    "    try:\n",
    "        city_name.append(response[\"name\"])\n",
    "        lat.append(response[\"coord\"][\"lat\"])\n",
    "        long.append(response[\"coord\"][\"lon\"])\n",
    "        temp.append(response[\"main\"][\"temp_max\"])\n",
    "        humidity.append(response[\"main\"][\"humidity\"])\n",
    "        cloudiness.append(response[\"clouds\"][\"all\"])\n",
    "        windspeed.append(response[\"wind\"][\"speed\"])\n",
    "        country.append(response[\"sys\"][\"country\"])\n",
    "        date.append(response[\"dt\"])\n",
    "        print(f\"Processing record: {city_count} of set: {sets} | {city}\")\n",
    "    except KeyError:\n",
    "        print(\"No weather data found\")\n",
    "    \n",
    "#Print out city name with index\n",
    "\n"
   ]
  },
  {
   "cell_type": "markdown",
   "metadata": {},
   "source": [
    "### Convert Raw Data to DataFrame\n",
    "* Export the city data into a .csv.\n",
    "* Display the DataFrame"
   ]
  },
  {
   "cell_type": "code",
   "execution_count": 13,
   "metadata": {},
   "outputs": [
    {
     "data": {
      "text/html": [
       "<div>\n",
       "<style scoped>\n",
       "    .dataframe tbody tr th:only-of-type {\n",
       "        vertical-align: middle;\n",
       "    }\n",
       "\n",
       "    .dataframe tbody tr th {\n",
       "        vertical-align: top;\n",
       "    }\n",
       "\n",
       "    .dataframe thead th {\n",
       "        text-align: right;\n",
       "    }\n",
       "</style>\n",
       "<table border=\"1\" class=\"dataframe\">\n",
       "  <thead>\n",
       "    <tr style=\"text-align: right;\">\n",
       "      <th></th>\n",
       "      <th>city</th>\n",
       "      <th>latitude</th>\n",
       "      <th>longitude</th>\n",
       "      <th>max temp (F)</th>\n",
       "      <th>humidity</th>\n",
       "      <th>cloudiness</th>\n",
       "      <th>windspeed</th>\n",
       "      <th>country</th>\n",
       "      <th>date</th>\n",
       "    </tr>\n",
       "  </thead>\n",
       "  <tbody>\n",
       "    <tr>\n",
       "      <th>0</th>\n",
       "      <td>Flinders</td>\n",
       "      <td>-34.58</td>\n",
       "      <td>150.86</td>\n",
       "      <td>51.01</td>\n",
       "      <td>71</td>\n",
       "      <td>19</td>\n",
       "      <td>1.01</td>\n",
       "      <td>AU</td>\n",
       "      <td>1596145763</td>\n",
       "    </tr>\n",
       "    <tr>\n",
       "      <th>1</th>\n",
       "      <td>Barrow</td>\n",
       "      <td>71.29</td>\n",
       "      <td>-156.79</td>\n",
       "      <td>37.40</td>\n",
       "      <td>93</td>\n",
       "      <td>90</td>\n",
       "      <td>5.82</td>\n",
       "      <td>US</td>\n",
       "      <td>1596145763</td>\n",
       "    </tr>\n",
       "    <tr>\n",
       "      <th>2</th>\n",
       "      <td>Ushuaia</td>\n",
       "      <td>-54.80</td>\n",
       "      <td>-68.30</td>\n",
       "      <td>31.17</td>\n",
       "      <td>94</td>\n",
       "      <td>56</td>\n",
       "      <td>4.43</td>\n",
       "      <td>AR</td>\n",
       "      <td>1596145764</td>\n",
       "    </tr>\n",
       "    <tr>\n",
       "      <th>3</th>\n",
       "      <td>Chumikan</td>\n",
       "      <td>54.72</td>\n",
       "      <td>135.31</td>\n",
       "      <td>53.73</td>\n",
       "      <td>97</td>\n",
       "      <td>100</td>\n",
       "      <td>16.78</td>\n",
       "      <td>RU</td>\n",
       "      <td>1596145764</td>\n",
       "    </tr>\n",
       "    <tr>\n",
       "      <th>4</th>\n",
       "      <td>Yellowknife</td>\n",
       "      <td>62.46</td>\n",
       "      <td>-114.35</td>\n",
       "      <td>69.80</td>\n",
       "      <td>49</td>\n",
       "      <td>75</td>\n",
       "      <td>18.34</td>\n",
       "      <td>CA</td>\n",
       "      <td>1596145764</td>\n",
       "    </tr>\n",
       "    <tr>\n",
       "      <th>...</th>\n",
       "      <td>...</td>\n",
       "      <td>...</td>\n",
       "      <td>...</td>\n",
       "      <td>...</td>\n",
       "      <td>...</td>\n",
       "      <td>...</td>\n",
       "      <td>...</td>\n",
       "      <td>...</td>\n",
       "      <td>...</td>\n",
       "    </tr>\n",
       "    <tr>\n",
       "      <th>546</th>\n",
       "      <td>Nushki</td>\n",
       "      <td>29.55</td>\n",
       "      <td>66.02</td>\n",
       "      <td>83.48</td>\n",
       "      <td>41</td>\n",
       "      <td>4</td>\n",
       "      <td>7.07</td>\n",
       "      <td>PK</td>\n",
       "      <td>1596145888</td>\n",
       "    </tr>\n",
       "    <tr>\n",
       "      <th>547</th>\n",
       "      <td>Mujiayingzi</td>\n",
       "      <td>42.12</td>\n",
       "      <td>118.78</td>\n",
       "      <td>72.21</td>\n",
       "      <td>68</td>\n",
       "      <td>100</td>\n",
       "      <td>7.36</td>\n",
       "      <td>CN</td>\n",
       "      <td>1596145646</td>\n",
       "    </tr>\n",
       "    <tr>\n",
       "      <th>548</th>\n",
       "      <td>Abu Kamal</td>\n",
       "      <td>34.45</td>\n",
       "      <td>40.92</td>\n",
       "      <td>92.01</td>\n",
       "      <td>15</td>\n",
       "      <td>0</td>\n",
       "      <td>7.27</td>\n",
       "      <td>SY</td>\n",
       "      <td>1596145888</td>\n",
       "    </tr>\n",
       "    <tr>\n",
       "      <th>549</th>\n",
       "      <td>Almeirim</td>\n",
       "      <td>-1.52</td>\n",
       "      <td>-52.58</td>\n",
       "      <td>81.46</td>\n",
       "      <td>62</td>\n",
       "      <td>85</td>\n",
       "      <td>1.61</td>\n",
       "      <td>BR</td>\n",
       "      <td>1596145888</td>\n",
       "    </tr>\n",
       "    <tr>\n",
       "      <th>550</th>\n",
       "      <td>Makkah al Mukarramah</td>\n",
       "      <td>21.43</td>\n",
       "      <td>39.83</td>\n",
       "      <td>88.50</td>\n",
       "      <td>53</td>\n",
       "      <td>92</td>\n",
       "      <td>11.65</td>\n",
       "      <td>SA</td>\n",
       "      <td>1596145889</td>\n",
       "    </tr>\n",
       "  </tbody>\n",
       "</table>\n",
       "<p>551 rows × 9 columns</p>\n",
       "</div>"
      ],
      "text/plain": [
       "                     city  latitude  longitude  max temp (F)  humidity  \\\n",
       "0                Flinders    -34.58     150.86         51.01        71   \n",
       "1                  Barrow     71.29    -156.79         37.40        93   \n",
       "2                 Ushuaia    -54.80     -68.30         31.17        94   \n",
       "3                Chumikan     54.72     135.31         53.73        97   \n",
       "4             Yellowknife     62.46    -114.35         69.80        49   \n",
       "..                    ...       ...        ...           ...       ...   \n",
       "546                Nushki     29.55      66.02         83.48        41   \n",
       "547           Mujiayingzi     42.12     118.78         72.21        68   \n",
       "548             Abu Kamal     34.45      40.92         92.01        15   \n",
       "549              Almeirim     -1.52     -52.58         81.46        62   \n",
       "550  Makkah al Mukarramah     21.43      39.83         88.50        53   \n",
       "\n",
       "     cloudiness  windspeed country        date  \n",
       "0            19       1.01      AU  1596145763  \n",
       "1            90       5.82      US  1596145763  \n",
       "2            56       4.43      AR  1596145764  \n",
       "3           100      16.78      RU  1596145764  \n",
       "4            75      18.34      CA  1596145764  \n",
       "..          ...        ...     ...         ...  \n",
       "546           4       7.07      PK  1596145888  \n",
       "547         100       7.36      CN  1596145646  \n",
       "548           0       7.27      SY  1596145888  \n",
       "549          85       1.61      BR  1596145888  \n",
       "550          92      11.65      SA  1596145889  \n",
       "\n",
       "[551 rows x 9 columns]"
      ]
     },
     "execution_count": 13,
     "metadata": {},
     "output_type": "execute_result"
    }
   ],
   "source": [
    "#Create DataFrame\n",
    "city_weather = pd.DataFrame({\n",
    "    \"city\":  city_name,\n",
    "    \"latitude\":  lat,\n",
    "    \"longitude\": long,\n",
    "    \"max temp (F)\": temp,\n",
    "    \"humidity\": humidity,\n",
    "    \"cloudiness\": cloudiness,\n",
    "    \"windspeed\": windspeed,\n",
    "    \"country\": country,\n",
    "    \"date\": date\n",
    "})\n",
    "\n",
    "city_weather"
   ]
  },
  {
   "cell_type": "code",
   "execution_count": null,
   "metadata": {},
   "outputs": [],
   "source": []
  },
  {
   "cell_type": "markdown",
   "metadata": {},
   "source": [
    "## Inspect the data and remove the cities where the humidity > 100%.\n",
    "----\n",
    "Skip this step if there are no cities that have humidity > 100%. "
   ]
  },
  {
   "cell_type": "code",
   "execution_count": 14,
   "metadata": {},
   "outputs": [
    {
     "data": {
      "text/html": [
       "<div>\n",
       "<style scoped>\n",
       "    .dataframe tbody tr th:only-of-type {\n",
       "        vertical-align: middle;\n",
       "    }\n",
       "\n",
       "    .dataframe tbody tr th {\n",
       "        vertical-align: top;\n",
       "    }\n",
       "\n",
       "    .dataframe thead th {\n",
       "        text-align: right;\n",
       "    }\n",
       "</style>\n",
       "<table border=\"1\" class=\"dataframe\">\n",
       "  <thead>\n",
       "    <tr style=\"text-align: right;\">\n",
       "      <th></th>\n",
       "      <th>city</th>\n",
       "      <th>latitude</th>\n",
       "      <th>longitude</th>\n",
       "      <th>max temp (F)</th>\n",
       "      <th>humidity</th>\n",
       "      <th>cloudiness</th>\n",
       "      <th>windspeed</th>\n",
       "      <th>country</th>\n",
       "      <th>date</th>\n",
       "    </tr>\n",
       "  </thead>\n",
       "  <tbody>\n",
       "  </tbody>\n",
       "</table>\n",
       "</div>"
      ],
      "text/plain": [
       "Empty DataFrame\n",
       "Columns: [city, latitude, longitude, max temp (F), humidity, cloudiness, windspeed, country, date]\n",
       "Index: []"
      ]
     },
     "execution_count": 14,
     "metadata": {},
     "output_type": "execute_result"
    }
   ],
   "source": [
    "high_humidity = city_weather.loc[city_weather[\"humidity\"] > 100]\n",
    "high_humidity"
   ]
  },
  {
   "cell_type": "code",
   "execution_count": null,
   "metadata": {},
   "outputs": [],
   "source": [
    "#  Get the indices of cities that have humidity over 100%.\n",
    "\n",
    "#none"
   ]
  },
  {
   "cell_type": "code",
   "execution_count": null,
   "metadata": {},
   "outputs": [],
   "source": [
    "# Make a new DataFrame equal to the city data to drop all humidity outliers by index.\n",
    "# Passing \"inplace=False\" will make a copy of the city_data DataFrame, which we call \"clean_city_data\".\n",
    "\n",
    "#n/a"
   ]
  },
  {
   "cell_type": "code",
   "execution_count": 15,
   "metadata": {
    "scrolled": true
   },
   "outputs": [],
   "source": [
    "# Extract relevant fields from the data frame\n",
    "\n",
    "\n",
    "# Export the City_Data into a csv\n",
    "# Note to avoid any issues later, use encoding=\"utf-8\"\n",
    "output_data_file = city_weather.to_csv(\"output_data/cities.csv\", encoding=\"utf-8\", index=False)"
   ]
  },
  {
   "cell_type": "markdown",
   "metadata": {},
   "source": [
    "## Plotting the Data\n",
    "* Use proper labeling of the plots using plot titles (including date of analysis) and axes labels.\n",
    "* Save the plotted figures as .pngs."
   ]
  },
  {
   "cell_type": "markdown",
   "metadata": {},
   "source": [
    "## Latitude vs. Temperature Plot"
   ]
  },
  {
   "cell_type": "code",
   "execution_count": 52,
   "metadata": {
    "scrolled": true
   },
   "outputs": [
    {
     "data": {
      "image/png": "[encoded data removed]",
      "text/plain": [
       "<Figure size 432x288 with 1 Axes>"
      ]
     },
     "metadata": {
      "needs_background": "light"
     },
     "output_type": "display_data"
    }
   ],
   "source": [
    "#Latitude vs Tempurature Plot\n",
    "x_values = city_weather[\"latitude\"]\n",
    "y_values = city_weather[\"max temp (F)\"]\n",
    "plt.scatter(x_values, y_values, marker=\"o\")\n",
    "\n",
    "# Incorporate the other graph properties\n",
    "plt.title(\"Max Temp Relative to Latitude in World Cities (7/30/2020)\")\n",
    "plt.ylabel(\"Max Temperature (F)\")\n",
    "plt.xlabel(\"Latitude\")\n",
    "plt.grid(True)\n",
    "\n",
    "# Save the figure\n",
    "plt.savefig(\"output_data/TemperaturevsLatitude.png\")\n",
    "\n",
    "# Show plot\n",
    "plt.show()"
   ]
  },
  {
   "cell_type": "markdown",
   "metadata": {},
   "source": [
    "## Latitude vs. Humidity Plot"
   ]
  },
  {
   "cell_type": "code",
   "execution_count": 31,
   "metadata": {},
   "outputs": [
    {
     "data": {
      "image/png": "[encoded data removed]",
      "text/plain": [
       "<Figure size 432x288 with 1 Axes>"
      ]
     },
     "metadata": {
      "needs_background": "light"
     },
     "output_type": "display_data"
    }
   ],
   "source": [
    "#Latitude vs Humidity Plot\n",
    "x_values = city_weather[\"latitude\"]\n",
    "y_values = city_weather[\"humidity\"]\n",
    "plt.scatter(x_values, y_values, marker=\"o\")\n",
    "\n",
    "# Incorporate the other graph properties\n",
    "plt.title(\"Humidity Relative to Latitude in World Cities (7/30/2020)\")\n",
    "plt.ylabel(\"Humidity (%)\")\n",
    "plt.xlabel(\"Latitude\")\n",
    "plt.grid(True)\n",
    "\n",
    "# Save the figure\n",
    "plt.savefig(\"output_data/HumidityvsLatitude.png\")\n",
    "\n",
    "# Show plot\n",
    "plt.show()"
   ]
  },
  {
   "cell_type": "markdown",
   "metadata": {},
   "source": [
    "## Latitude vs. Cloudiness Plot"
   ]
  },
  {
   "cell_type": "code",
   "execution_count": 32,
   "metadata": {},
   "outputs": [
    {
     "data": {
      "image/png": "[encoded data removed]",
      "text/plain": [
       "<Figure size 432x288 with 1 Axes>"
      ]
     },
     "metadata": {
      "needs_background": "light"
     },
     "output_type": "display_data"
    }
   ],
   "source": [
    "#Latitude vs Cloudiness Plot\n",
    "x_values = city_weather[\"latitude\"]\n",
    "y_values = city_weather[\"cloudiness\"]\n",
    "plt.scatter(x_values, y_values, marker=\"o\")\n",
    "\n",
    "# Incorporate the other graph properties\n",
    "plt.title(\"Cloudiness Relative to Latitude in World Cities (7/30/2020)\")\n",
    "plt.ylabel(\"Cloudiness (%)\")\n",
    "plt.xlabel(\"Latitude\")\n",
    "plt.grid(True)\n",
    "\n",
    "# Save the figure\n",
    "plt.savefig(\"output_data/CloudinessvsLatitude.png\")\n",
    "\n",
    "# Show plot\n",
    "plt.show()"
   ]
  },
  {
   "cell_type": "markdown",
   "metadata": {},
   "source": [
    "## Latitude vs. Wind Speed Plot"
   ]
  },
  {
   "cell_type": "code",
   "execution_count": 46,
   "metadata": {},
   "outputs": [
    {
     "data": {
      "image/png": "[encoded data removed]",
      "text/plain": [
       "<Figure size 432x288 with 1 Axes>"
      ]
     },
     "metadata": {
      "needs_background": "light"
     },
     "output_type": "display_data"
    }
   ],
   "source": [
    "#Latitude vs Wind Speed Plot\n",
    "x_values = city_weather[\"latitude\"]\n",
    "y_values = city_weather[\"windspeed\"]\n",
    "plt.scatter(x_values, y_values, marker=\"o\")\n",
    "\n",
    "# Incorporate the other graph properties\n",
    "plt.title(\"Wind Speed Relative to Latitude in World Cities (7/30/2020)\")\n",
    "plt.ylabel(\"Wind Speed (mph)\")\n",
    "plt.xlabel(\"Latitude\")\n",
    "plt.grid(True)\n",
    "\n",
    "# Save the figure\n",
    "plt.savefig(\"output_data/WindspeedvsLatitude.png\")\n",
    "\n",
    "# Show plot\n",
    "plt.show()"
   ]
  },
  {
   "cell_type": "markdown",
   "metadata": {},
   "source": [
    "## Linear Regression"
   ]
  },
  {
   "cell_type": "code",
   "execution_count": 28,
   "metadata": {},
   "outputs": [
    {
     "data": {
      "text/html": [
       "<div>\n",
       "<style scoped>\n",
       "    .dataframe tbody tr th:only-of-type {\n",
       "        vertical-align: middle;\n",
       "    }\n",
       "\n",
       "    .dataframe tbody tr th {\n",
       "        vertical-align: top;\n",
       "    }\n",
       "\n",
       "    .dataframe thead th {\n",
       "        text-align: right;\n",
       "    }\n",
       "</style>\n",
       "<table border=\"1\" class=\"dataframe\">\n",
       "  <thead>\n",
       "    <tr style=\"text-align: right;\">\n",
       "      <th></th>\n",
       "      <th>city</th>\n",
       "      <th>latitude</th>\n",
       "      <th>longitude</th>\n",
       "      <th>max temp (F)</th>\n",
       "      <th>humidity</th>\n",
       "      <th>cloudiness</th>\n",
       "      <th>windspeed</th>\n",
       "      <th>country</th>\n",
       "      <th>date</th>\n",
       "    </tr>\n",
       "  </thead>\n",
       "  <tbody>\n",
       "    <tr>\n",
       "      <th>1</th>\n",
       "      <td>Barrow</td>\n",
       "      <td>71.29</td>\n",
       "      <td>-156.79</td>\n",
       "      <td>37.40</td>\n",
       "      <td>93</td>\n",
       "      <td>90</td>\n",
       "      <td>5.82</td>\n",
       "      <td>US</td>\n",
       "      <td>1596145763</td>\n",
       "    </tr>\n",
       "    <tr>\n",
       "      <th>3</th>\n",
       "      <td>Chumikan</td>\n",
       "      <td>54.72</td>\n",
       "      <td>135.31</td>\n",
       "      <td>53.73</td>\n",
       "      <td>97</td>\n",
       "      <td>100</td>\n",
       "      <td>16.78</td>\n",
       "      <td>RU</td>\n",
       "      <td>1596145764</td>\n",
       "    </tr>\n",
       "    <tr>\n",
       "      <th>4</th>\n",
       "      <td>Yellowknife</td>\n",
       "      <td>62.46</td>\n",
       "      <td>-114.35</td>\n",
       "      <td>69.80</td>\n",
       "      <td>49</td>\n",
       "      <td>75</td>\n",
       "      <td>18.34</td>\n",
       "      <td>CA</td>\n",
       "      <td>1596145764</td>\n",
       "    </tr>\n",
       "    <tr>\n",
       "      <th>5</th>\n",
       "      <td>Hong Kong</td>\n",
       "      <td>22.29</td>\n",
       "      <td>114.16</td>\n",
       "      <td>84.20</td>\n",
       "      <td>70</td>\n",
       "      <td>40</td>\n",
       "      <td>16.11</td>\n",
       "      <td>HK</td>\n",
       "      <td>1596145557</td>\n",
       "    </tr>\n",
       "    <tr>\n",
       "      <th>8</th>\n",
       "      <td>Jamestown</td>\n",
       "      <td>42.10</td>\n",
       "      <td>-79.24</td>\n",
       "      <td>77.00</td>\n",
       "      <td>53</td>\n",
       "      <td>75</td>\n",
       "      <td>8.05</td>\n",
       "      <td>US</td>\n",
       "      <td>1596145605</td>\n",
       "    </tr>\n",
       "    <tr>\n",
       "      <th>...</th>\n",
       "      <td>...</td>\n",
       "      <td>...</td>\n",
       "      <td>...</td>\n",
       "      <td>...</td>\n",
       "      <td>...</td>\n",
       "      <td>...</td>\n",
       "      <td>...</td>\n",
       "      <td>...</td>\n",
       "      <td>...</td>\n",
       "    </tr>\n",
       "    <tr>\n",
       "      <th>545</th>\n",
       "      <td>Lermontovka</td>\n",
       "      <td>47.15</td>\n",
       "      <td>134.34</td>\n",
       "      <td>71.01</td>\n",
       "      <td>85</td>\n",
       "      <td>8</td>\n",
       "      <td>5.61</td>\n",
       "      <td>RU</td>\n",
       "      <td>1596145888</td>\n",
       "    </tr>\n",
       "    <tr>\n",
       "      <th>546</th>\n",
       "      <td>Nushki</td>\n",
       "      <td>29.55</td>\n",
       "      <td>66.02</td>\n",
       "      <td>83.48</td>\n",
       "      <td>41</td>\n",
       "      <td>4</td>\n",
       "      <td>7.07</td>\n",
       "      <td>PK</td>\n",
       "      <td>1596145888</td>\n",
       "    </tr>\n",
       "    <tr>\n",
       "      <th>547</th>\n",
       "      <td>Mujiayingzi</td>\n",
       "      <td>42.12</td>\n",
       "      <td>118.78</td>\n",
       "      <td>72.21</td>\n",
       "      <td>68</td>\n",
       "      <td>100</td>\n",
       "      <td>7.36</td>\n",
       "      <td>CN</td>\n",
       "      <td>1596145646</td>\n",
       "    </tr>\n",
       "    <tr>\n",
       "      <th>548</th>\n",
       "      <td>Abu Kamal</td>\n",
       "      <td>34.45</td>\n",
       "      <td>40.92</td>\n",
       "      <td>92.01</td>\n",
       "      <td>15</td>\n",
       "      <td>0</td>\n",
       "      <td>7.27</td>\n",
       "      <td>SY</td>\n",
       "      <td>1596145888</td>\n",
       "    </tr>\n",
       "    <tr>\n",
       "      <th>550</th>\n",
       "      <td>Makkah al Mukarramah</td>\n",
       "      <td>21.43</td>\n",
       "      <td>39.83</td>\n",
       "      <td>88.50</td>\n",
       "      <td>53</td>\n",
       "      <td>92</td>\n",
       "      <td>11.65</td>\n",
       "      <td>SA</td>\n",
       "      <td>1596145889</td>\n",
       "    </tr>\n",
       "  </tbody>\n",
       "</table>\n",
       "<p>376 rows × 9 columns</p>\n",
       "</div>"
      ],
      "text/plain": [
       "                     city  latitude  longitude  max temp (F)  humidity  \\\n",
       "1                  Barrow     71.29    -156.79         37.40        93   \n",
       "3                Chumikan     54.72     135.31         53.73        97   \n",
       "4             Yellowknife     62.46    -114.35         69.80        49   \n",
       "5               Hong Kong     22.29     114.16         84.20        70   \n",
       "8               Jamestown     42.10     -79.24         77.00        53   \n",
       "..                    ...       ...        ...           ...       ...   \n",
       "545           Lermontovka     47.15     134.34         71.01        85   \n",
       "546                Nushki     29.55      66.02         83.48        41   \n",
       "547           Mujiayingzi     42.12     118.78         72.21        68   \n",
       "548             Abu Kamal     34.45      40.92         92.01        15   \n",
       "550  Makkah al Mukarramah     21.43      39.83         88.50        53   \n",
       "\n",
       "     cloudiness  windspeed country        date  \n",
       "1            90       5.82      US  1596145763  \n",
       "3           100      16.78      RU  1596145764  \n",
       "4            75      18.34      CA  1596145764  \n",
       "5            40      16.11      HK  1596145557  \n",
       "8            75       8.05      US  1596145605  \n",
       "..          ...        ...     ...         ...  \n",
       "545           8       5.61      RU  1596145888  \n",
       "546           4       7.07      PK  1596145888  \n",
       "547         100       7.36      CN  1596145646  \n",
       "548           0       7.27      SY  1596145888  \n",
       "550          92      11.65      SA  1596145889  \n",
       "\n",
       "[376 rows x 9 columns]"
      ]
     },
     "execution_count": 28,
     "metadata": {},
     "output_type": "execute_result"
    }
   ],
   "source": [
    "# Create Northern and Southern Hemisphere DataFrames\n",
    "northern = city_weather[city_weather[\"latitude\"] >= 0]\n",
    "northern"
   ]
  },
  {
   "cell_type": "code",
   "execution_count": 29,
   "metadata": {},
   "outputs": [
    {
     "data": {
      "text/html": [
       "<div>\n",
       "<style scoped>\n",
       "    .dataframe tbody tr th:only-of-type {\n",
       "        vertical-align: middle;\n",
       "    }\n",
       "\n",
       "    .dataframe tbody tr th {\n",
       "        vertical-align: top;\n",
       "    }\n",
       "\n",
       "    .dataframe thead th {\n",
       "        text-align: right;\n",
       "    }\n",
       "</style>\n",
       "<table border=\"1\" class=\"dataframe\">\n",
       "  <thead>\n",
       "    <tr style=\"text-align: right;\">\n",
       "      <th></th>\n",
       "      <th>city</th>\n",
       "      <th>latitude</th>\n",
       "      <th>longitude</th>\n",
       "      <th>max temp (F)</th>\n",
       "      <th>humidity</th>\n",
       "      <th>cloudiness</th>\n",
       "      <th>windspeed</th>\n",
       "      <th>country</th>\n",
       "      <th>date</th>\n",
       "    </tr>\n",
       "  </thead>\n",
       "  <tbody>\n",
       "    <tr>\n",
       "      <th>0</th>\n",
       "      <td>Flinders</td>\n",
       "      <td>-34.58</td>\n",
       "      <td>150.86</td>\n",
       "      <td>51.01</td>\n",
       "      <td>71</td>\n",
       "      <td>19</td>\n",
       "      <td>1.01</td>\n",
       "      <td>AU</td>\n",
       "      <td>1596145763</td>\n",
       "    </tr>\n",
       "    <tr>\n",
       "      <th>2</th>\n",
       "      <td>Ushuaia</td>\n",
       "      <td>-54.80</td>\n",
       "      <td>-68.30</td>\n",
       "      <td>31.17</td>\n",
       "      <td>94</td>\n",
       "      <td>56</td>\n",
       "      <td>4.43</td>\n",
       "      <td>AR</td>\n",
       "      <td>1596145764</td>\n",
       "    </tr>\n",
       "    <tr>\n",
       "      <th>6</th>\n",
       "      <td>Puerto Ayora</td>\n",
       "      <td>-0.74</td>\n",
       "      <td>-90.35</td>\n",
       "      <td>77.00</td>\n",
       "      <td>61</td>\n",
       "      <td>20</td>\n",
       "      <td>14.99</td>\n",
       "      <td>EC</td>\n",
       "      <td>1596145516</td>\n",
       "    </tr>\n",
       "    <tr>\n",
       "      <th>7</th>\n",
       "      <td>Port Alfred</td>\n",
       "      <td>-33.59</td>\n",
       "      <td>26.89</td>\n",
       "      <td>56.71</td>\n",
       "      <td>85</td>\n",
       "      <td>27</td>\n",
       "      <td>7.63</td>\n",
       "      <td>ZA</td>\n",
       "      <td>1596145765</td>\n",
       "    </tr>\n",
       "    <tr>\n",
       "      <th>9</th>\n",
       "      <td>Masterton</td>\n",
       "      <td>-40.96</td>\n",
       "      <td>175.66</td>\n",
       "      <td>55.00</td>\n",
       "      <td>78</td>\n",
       "      <td>100</td>\n",
       "      <td>4.38</td>\n",
       "      <td>NZ</td>\n",
       "      <td>1596145765</td>\n",
       "    </tr>\n",
       "    <tr>\n",
       "      <th>...</th>\n",
       "      <td>...</td>\n",
       "      <td>...</td>\n",
       "      <td>...</td>\n",
       "      <td>...</td>\n",
       "      <td>...</td>\n",
       "      <td>...</td>\n",
       "      <td>...</td>\n",
       "      <td>...</td>\n",
       "      <td>...</td>\n",
       "    </tr>\n",
       "    <tr>\n",
       "      <th>535</th>\n",
       "      <td>Codrington</td>\n",
       "      <td>-38.27</td>\n",
       "      <td>141.97</td>\n",
       "      <td>41.72</td>\n",
       "      <td>92</td>\n",
       "      <td>69</td>\n",
       "      <td>9.71</td>\n",
       "      <td>AU</td>\n",
       "      <td>1596145885</td>\n",
       "    </tr>\n",
       "    <tr>\n",
       "      <th>537</th>\n",
       "      <td>Launceston</td>\n",
       "      <td>-41.45</td>\n",
       "      <td>147.17</td>\n",
       "      <td>37.99</td>\n",
       "      <td>100</td>\n",
       "      <td>75</td>\n",
       "      <td>3.36</td>\n",
       "      <td>AU</td>\n",
       "      <td>1596145886</td>\n",
       "    </tr>\n",
       "    <tr>\n",
       "      <th>539</th>\n",
       "      <td>Arcos</td>\n",
       "      <td>-20.28</td>\n",
       "      <td>-45.54</td>\n",
       "      <td>71.08</td>\n",
       "      <td>50</td>\n",
       "      <td>63</td>\n",
       "      <td>5.53</td>\n",
       "      <td>BR</td>\n",
       "      <td>1596145886</td>\n",
       "    </tr>\n",
       "    <tr>\n",
       "      <th>544</th>\n",
       "      <td>Port Lincoln</td>\n",
       "      <td>-34.73</td>\n",
       "      <td>135.87</td>\n",
       "      <td>51.39</td>\n",
       "      <td>70</td>\n",
       "      <td>49</td>\n",
       "      <td>10.60</td>\n",
       "      <td>AU</td>\n",
       "      <td>1596145887</td>\n",
       "    </tr>\n",
       "    <tr>\n",
       "      <th>549</th>\n",
       "      <td>Almeirim</td>\n",
       "      <td>-1.52</td>\n",
       "      <td>-52.58</td>\n",
       "      <td>81.46</td>\n",
       "      <td>62</td>\n",
       "      <td>85</td>\n",
       "      <td>1.61</td>\n",
       "      <td>BR</td>\n",
       "      <td>1596145888</td>\n",
       "    </tr>\n",
       "  </tbody>\n",
       "</table>\n",
       "<p>175 rows × 9 columns</p>\n",
       "</div>"
      ],
      "text/plain": [
       "             city  latitude  longitude  max temp (F)  humidity  cloudiness  \\\n",
       "0        Flinders    -34.58     150.86         51.01        71          19   \n",
       "2         Ushuaia    -54.80     -68.30         31.17        94          56   \n",
       "6    Puerto Ayora     -0.74     -90.35         77.00        61          20   \n",
       "7     Port Alfred    -33.59      26.89         56.71        85          27   \n",
       "9       Masterton    -40.96     175.66         55.00        78         100   \n",
       "..            ...       ...        ...           ...       ...         ...   \n",
       "535    Codrington    -38.27     141.97         41.72        92          69   \n",
       "537    Launceston    -41.45     147.17         37.99       100          75   \n",
       "539         Arcos    -20.28     -45.54         71.08        50          63   \n",
       "544  Port Lincoln    -34.73     135.87         51.39        70          49   \n",
       "549      Almeirim     -1.52     -52.58         81.46        62          85   \n",
       "\n",
       "     windspeed country        date  \n",
       "0         1.01      AU  1596145763  \n",
       "2         4.43      AR  1596145764  \n",
       "6        14.99      EC  1596145516  \n",
       "7         7.63      ZA  1596145765  \n",
       "9         4.38      NZ  1596145765  \n",
       "..         ...     ...         ...  \n",
       "535       9.71      AU  1596145885  \n",
       "537       3.36      AU  1596145886  \n",
       "539       5.53      BR  1596145886  \n",
       "544      10.60      AU  1596145887  \n",
       "549       1.61      BR  1596145888  \n",
       "\n",
       "[175 rows x 9 columns]"
      ]
     },
     "execution_count": 29,
     "metadata": {},
     "output_type": "execute_result"
    }
   ],
   "source": [
    "southern = city_weather[city_weather[\"latitude\"] <= 0]\n",
    "southern"
   ]
  },
  {
   "cell_type": "markdown",
   "metadata": {},
   "source": [
    "####  Northern Hemisphere - Max Temp vs. Latitude Linear Regression"
   ]
  },
  {
   "cell_type": "code",
   "execution_count": 51,
   "metadata": {},
   "outputs": [
    {
     "name": "stdout",
     "output_type": "stream",
     "text": [
      "The r-squared is: 0.4367279080169715\n"
     ]
    },
    {
     "data": {
      "image/png": "[encoded data removed]",
      "text/plain": [
       "<Figure size 432x288 with 1 Axes>"
      ]
     },
     "metadata": {
      "needs_background": "light"
     },
     "output_type": "display_data"
    },
    {
     "data": {
      "text/plain": [
       "<Figure size 432x288 with 0 Axes>"
      ]
     },
     "metadata": {},
     "output_type": "display_data"
    }
   ],
   "source": [
    "# Print out the r-squared value along with the plot.\n",
    "x_values = northern[\"latitude\"]\n",
    "y_values = northern[\"max temp (F)\"]\n",
    "(slope, intercept, rvalue, pvalue, stderr) = linregress(x_values, y_values)\n",
    "regress_values = x_values * slope + intercept\n",
    "line_eq = \"y = \" + str(round(slope,2)) + \"x + \" + str(round(intercept,2))\n",
    "plt.scatter(x_values,y_values)\n",
    "plt.plot(x_values,regress_values,\"r-\")\n",
    "plt.annotate(line_eq,(6,10),fontsize=15,color=\"red\")\n",
    "plt.title(\"Max Temp Relative to Latitude in Northern Hemisphere Cities (7/30/2020)\")\n",
    "plt.xlabel(\"Latitude\")\n",
    "plt.ylabel(\"Max Temperature (F)\")\n",
    "plt.grid(True)\n",
    "print(f\"The r-squared is: {rvalue**2}\")\n",
    "plt.show()\n",
    "\n",
    "# Save the figure\n",
    "plt.savefig(\"output_data/NorthTemperaturevsLatitude.png\")"
   ]
  },
  {
   "cell_type": "markdown",
   "metadata": {},
   "source": [
    "####  Southern Hemisphere - Max Temp vs. Latitude Linear Regression"
   ]
  },
  {
   "cell_type": "code",
   "execution_count": 50,
   "metadata": {},
   "outputs": [
    {
     "name": "stdout",
     "output_type": "stream",
     "text": [
      "The r-squared is: 0.7110980781946915\n"
     ]
    },
    {
     "data": {
      "image/png": "[encoded data removed]",
      "text/plain": [
       "<Figure size 432x288 with 1 Axes>"
      ]
     },
     "metadata": {
      "needs_background": "light"
     },
     "output_type": "display_data"
    },
    {
     "data": {
      "text/plain": [
       "<Figure size 432x288 with 0 Axes>"
      ]
     },
     "metadata": {},
     "output_type": "display_data"
    }
   ],
   "source": [
    "# Print out the r-squared value along with the plot.\n",
    "x_values = southern[\"latitude\"]\n",
    "y_values = southern[\"max temp (F)\"]\n",
    "(slope, intercept, rvalue, pvalue, stderr) = linregress(x_values, y_values)\n",
    "regress_values = x_values * slope + intercept\n",
    "line_eq = \"y = \" + str(round(slope,2)) + \"x + \" + str(round(intercept,2))\n",
    "plt.scatter(x_values,y_values)\n",
    "plt.plot(x_values,regress_values,\"r-\")\n",
    "plt.annotate(line_eq,(6,10),fontsize=15,color=\"red\")\n",
    "plt.title(\"Max Temp Relative to Latitude in Southern Hemisphere Cities (7/30/2020)\")\n",
    "plt.xlabel(\"Latitude\")\n",
    "plt.ylabel(\"Max Temperature (F)\")\n",
    "plt.grid(True)\n",
    "print(f\"The r-squared is: {rvalue**2}\")\n",
    "plt.show()\n",
    "\n",
    "# Save the figure\n",
    "plt.savefig(\"output_data/SouthTemperaturevsLatitude.png\")"
   ]
  },
  {
   "cell_type": "code",
   "execution_count": null,
   "metadata": {},
   "outputs": [],
   "source": [
    "#These scatter plots and r-values indicate that the maximum temperature tends to increas the closer a city is to the equator."
   ]
  },
  {
   "cell_type": "markdown",
   "metadata": {},
   "source": [
    "####  Northern Hemisphere - Humidity (%) vs. Latitude Linear Regression"
   ]
  },
  {
   "cell_type": "code",
   "execution_count": 42,
   "metadata": {},
   "outputs": [
    {
     "name": "stdout",
     "output_type": "stream",
     "text": [
      "The r-squared is: 0.0022930782150456944\n"
     ]
    },
    {
     "data": {
      "image/png": "[encoded data removed]",
      "text/plain": [
       "<Figure size 432x288 with 1 Axes>"
      ]
     },
     "metadata": {
      "needs_background": "light"
     },
     "output_type": "display_data"
    },
    {
     "data": {
      "text/plain": [
       "<Figure size 432x288 with 0 Axes>"
      ]
     },
     "metadata": {},
     "output_type": "display_data"
    }
   ],
   "source": [
    "# Print out the r-squared value along with the plot.\n",
    "x_values = northern[\"latitude\"]\n",
    "y_values = northern[\"humidity\"]\n",
    "(slope, intercept, rvalue, pvalue, stderr) = linregress(x_values, y_values)\n",
    "regress_values = x_values * slope + intercept\n",
    "line_eq = \"y = \" + str(round(slope,2)) + \"x + \" + str(round(intercept,2))\n",
    "plt.scatter(x_values,y_values)\n",
    "plt.plot(x_values,regress_values,\"r-\")\n",
    "plt.annotate(line_eq,(6,10),fontsize=15,color=\"red\")\n",
    "plt.title(\"Humidity Relative to Latitude in Northern Hemisphere Cities (7/30/2020)\")\n",
    "plt.xlabel(\"Latitude\")\n",
    "plt.ylabel(\"Humidity (%)\")\n",
    "plt.grid(True)\n",
    "print(f\"The r-squared is: {rvalue**2}\")\n",
    "plt.show()\n",
    "\n",
    "# Save the figure\n",
    "plt.savefig(\"output_data/NorthHumidityvsLatitude.png\")"
   ]
  },
  {
   "cell_type": "markdown",
   "metadata": {},
   "source": [
    "####  Southern Hemisphere - Humidity (%) vs. Latitude Linear Regression"
   ]
  },
  {
   "cell_type": "code",
   "execution_count": 43,
   "metadata": {},
   "outputs": [
    {
     "name": "stdout",
     "output_type": "stream",
     "text": [
      "The r-squared is: 0.05871086126398409\n"
     ]
    },
    {
     "data": {
      "image/png": "[encoded data removed]",
      "text/plain": [
       "<Figure size 432x288 with 1 Axes>"
      ]
     },
     "metadata": {
      "needs_background": "light"
     },
     "output_type": "display_data"
    },
    {
     "data": {
      "text/plain": [
       "<Figure size 432x288 with 0 Axes>"
      ]
     },
     "metadata": {},
     "output_type": "display_data"
    }
   ],
   "source": [
    "# Print out the r-squared value along with the plot.\n",
    "x_values = southern[\"latitude\"]\n",
    "y_values = southern[\"humidity\"]\n",
    "(slope, intercept, rvalue, pvalue, stderr) = linregress(x_values, y_values)\n",
    "regress_values = x_values * slope + intercept\n",
    "line_eq = \"y = \" + str(round(slope,2)) + \"x + \" + str(round(intercept,2))\n",
    "plt.scatter(x_values,y_values)\n",
    "plt.plot(x_values,regress_values,\"r-\")\n",
    "plt.annotate(line_eq,(6,10),fontsize=15,color=\"red\")\n",
    "plt.title(\"Humidity Relative to Latitude in Southern Hemisphere Cities (7/30/2020)\")\n",
    "plt.xlabel(\"Latitude\")\n",
    "plt.ylabel(\"Humidity (%)\")\n",
    "plt.grid(True)\n",
    "print(f\"The r-squared is: {rvalue**2}\")\n",
    "plt.show()\n",
    "\n",
    "# Save the figure\n",
    "plt.savefig(\"output_data/SouthHumidityvsLatitude.png\")"
   ]
  },
  {
   "cell_type": "code",
   "execution_count": null,
   "metadata": {},
   "outputs": [],
   "source": [
    "#These scatter plots and r-values indicate that the latitude of a city does not have a major affect on the humidity."
   ]
  },
  {
   "cell_type": "markdown",
   "metadata": {},
   "source": [
    "####  Northern Hemisphere - Cloudiness (%) vs. Latitude Linear Regression"
   ]
  },
  {
   "cell_type": "code",
   "execution_count": 44,
   "metadata": {},
   "outputs": [
    {
     "name": "stdout",
     "output_type": "stream",
     "text": [
      "The r-squared is: 0.0009318358568848067\n"
     ]
    },
    {
     "data": {
      "image/png": "[encoded data removed]",
      "text/plain": [
       "<Figure size 432x288 with 1 Axes>"
      ]
     },
     "metadata": {
      "needs_background": "light"
     },
     "output_type": "display_data"
    },
    {
     "data": {
      "text/plain": [
       "<Figure size 432x288 with 0 Axes>"
      ]
     },
     "metadata": {},
     "output_type": "display_data"
    }
   ],
   "source": [
    "# Print out the r-squared value along with the plot.\n",
    "x_values = northern[\"latitude\"]\n",
    "y_values = northern[\"cloudiness\"]\n",
    "(slope, intercept, rvalue, pvalue, stderr) = linregress(x_values, y_values)\n",
    "regress_values = x_values * slope + intercept\n",
    "line_eq = \"y = \" + str(round(slope,2)) + \"x + \" + str(round(intercept,2))\n",
    "plt.scatter(x_values,y_values)\n",
    "plt.plot(x_values,regress_values,\"r-\")\n",
    "plt.annotate(line_eq,(6,10),fontsize=15,color=\"red\")\n",
    "plt.title(\"Cloudiness Relative to Latitude in Northern Hemisphere Cities (7/30/2020)\")\n",
    "plt.xlabel(\"Latitude\")\n",
    "plt.ylabel(\"Cloudiness (%)\")\n",
    "plt.grid(True)\n",
    "print(f\"The r-squared is: {rvalue**2}\")\n",
    "plt.show()\n",
    "\n",
    "# Save the figure\n",
    "plt.savefig(\"output_data/NorthCloudinessvsLatitude.png\")"
   ]
  },
  {
   "cell_type": "markdown",
   "metadata": {},
   "source": [
    "####  Southern Hemisphere - Cloudiness (%) vs. Latitude Linear Regression"
   ]
  },
  {
   "cell_type": "code",
   "execution_count": 45,
   "metadata": {},
   "outputs": [
    {
     "name": "stdout",
     "output_type": "stream",
     "text": [
      "The r-squared is: 0.024353541117377236\n"
     ]
    },
    {
     "data": {
      "image/png": "[encoded data removed]",
      "text/plain": [
       "<Figure size 432x288 with 1 Axes>"
      ]
     },
     "metadata": {
      "needs_background": "light"
     },
     "output_type": "display_data"
    },
    {
     "data": {
      "text/plain": [
       "<Figure size 432x288 with 0 Axes>"
      ]
     },
     "metadata": {},
     "output_type": "display_data"
    }
   ],
   "source": [
    "# Print out the r-squared value along with the plot.\n",
    "x_values = southern[\"latitude\"]\n",
    "y_values = southern[\"cloudiness\"]\n",
    "(slope, intercept, rvalue, pvalue, stderr) = linregress(x_values, y_values)\n",
    "regress_values = x_values * slope + intercept\n",
    "line_eq = \"y = \" + str(round(slope,2)) + \"x + \" + str(round(intercept,2))\n",
    "plt.scatter(x_values,y_values)\n",
    "plt.plot(x_values,regress_values,\"r-\")\n",
    "plt.annotate(line_eq,(6,10),fontsize=15,color=\"red\")\n",
    "plt.title(\"Cloudiness Relative to Latitude in Southern Hemisphere Cities (7/30/2020)\")\n",
    "plt.xlabel(\"Latitude\")\n",
    "plt.ylabel(\"Cloudiness (%)\")\n",
    "plt.grid(True)\n",
    "print(f\"The r-squared is: {rvalue**2}\")\n",
    "plt.show()\n",
    "\n",
    "# Save the figure\n",
    "plt.savefig(\"output_data/SouthCloudinessvsLatitude.png\")"
   ]
  },
  {
   "cell_type": "code",
   "execution_count": null,
   "metadata": {},
   "outputs": [],
   "source": [
    "#These scatter plots indicate that there is minimal relationship between latitude and cloudiness."
   ]
  },
  {
   "cell_type": "markdown",
   "metadata": {},
   "source": [
    "####  Northern Hemisphere - Wind Speed (mph) vs. Latitude Linear Regression"
   ]
  },
  {
   "cell_type": "code",
   "execution_count": 53,
   "metadata": {},
   "outputs": [
    {
     "name": "stdout",
     "output_type": "stream",
     "text": [
      "The r-squared is: 0.00834031539777475\n"
     ]
    },
    {
     "data": {
      "image/png": "[encoded data removed]",
      "text/plain": [
       "<Figure size 432x288 with 1 Axes>"
      ]
     },
     "metadata": {
      "needs_background": "light"
     },
     "output_type": "display_data"
    },
    {
     "data": {
      "text/plain": [
       "<Figure size 432x288 with 0 Axes>"
      ]
     },
     "metadata": {},
     "output_type": "display_data"
    }
   ],
   "source": [
    "# Print out the r-squared value along with the plot.\n",
    "x_values = northern[\"latitude\"]\n",
    "y_values = northern[\"windspeed\"]\n",
    "(slope, intercept, rvalue, pvalue, stderr) = linregress(x_values, y_values)\n",
    "regress_values = x_values * slope + intercept\n",
    "line_eq = \"y = \" + str(round(slope,2)) + \"x + \" + str(round(intercept,2))\n",
    "plt.scatter(x_values,y_values)\n",
    "plt.plot(x_values,regress_values,\"r-\")\n",
    "plt.annotate(line_eq,(6,10),fontsize=15,color=\"red\")\n",
    "plt.title(\"Wind Speed Relative to Latitude in Northern Hemisphere Cities (7/30/2020)\")\n",
    "plt.xlabel(\"Latitude\")\n",
    "plt.ylabel(\"Wind Speed (mph)\")\n",
    "plt.grid(True)\n",
    "print(f\"The r-squared is: {rvalue**2}\")\n",
    "plt.show()\n",
    "\n",
    "# Save the figure\n",
    "plt.savefig(\"output_data/NorthWindspeedvsLatitude.png\")"
   ]
  },
  {
   "cell_type": "markdown",
   "metadata": {},
   "source": [
    "####  Southern Hemisphere - Wind Speed (mph) vs. Latitude Linear Regression"
   ]
  },
  {
   "cell_type": "code",
   "execution_count": 54,
   "metadata": {},
   "outputs": [
    {
     "name": "stdout",
     "output_type": "stream",
     "text": [
      "The r-squared is: 0.0015295162366024573\n"
     ]
    },
    {
     "data": {
      "image/png": "[encoded data removed]",
      "text/plain": [
       "<Figure size 432x288 with 1 Axes>"
      ]
     },
     "metadata": {
      "needs_background": "light"
     },
     "output_type": "display_data"
    },
    {
     "data": {
      "text/plain": [
       "<Figure size 432x288 with 0 Axes>"
      ]
     },
     "metadata": {},
     "output_type": "display_data"
    }
   ],
   "source": [
    "# Print out the r-squared value along with the plot.\n",
    "x_values = southern[\"latitude\"]\n",
    "y_values = southern[\"windspeed\"]\n",
    "(slope, intercept, rvalue, pvalue, stderr) = linregress(x_values, y_values)\n",
    "regress_values = x_values * slope + intercept\n",
    "line_eq = \"y = \" + str(round(slope,2)) + \"x + \" + str(round(intercept,2))\n",
    "plt.scatter(x_values,y_values)\n",
    "plt.plot(x_values,regress_values,\"r-\")\n",
    "plt.annotate(line_eq,(6,10),fontsize=15,color=\"red\")\n",
    "plt.title(\"Wind Speed Relative to Latitude in Southern Hemisphere Cities (7/30/2020)\")\n",
    "plt.xlabel(\"Latitude\")\n",
    "plt.ylabel(\"Wind Speed (mph))\")\n",
    "plt.grid(True)\n",
    "print(f\"The r-squared is: {rvalue**2}\")\n",
    "plt.show()\n",
    "\n",
    "# Save the figure\n",
    "plt.savefig(\"output_data/SouthWindspeedvsLatitude.png\")"
   ]
  },
  {
   "cell_type": "code",
   "execution_count": null,
   "metadata": {},
   "outputs": [],
   "source": [
    "#These scatter plots and r-values indicate that there is minimal relationship between latitude and wind speed."
   ]
  }
 ],
 "metadata": {
  "anaconda-cloud": {},
  "kernel_info": {
   "name": "python3"
  },
  "kernelspec": {
   "display_name": "Python 3",
   "language": "python",
   "name": "python3"
  },
  "language_info": {
   "codemirror_mode": {
    "name": "ipython",
    "version": 3
   },
   "file_extension": ".py",
   "mimetype": "text/x-python",
   "name": "python",
   "nbconvert_exporter": "python",
   "pygments_lexer": "ipython3",
   "version": "3.6.10"
  },
  "latex_envs": {
   "LaTeX_envs_menu_present": true,
   "autoclose": false,
   "autocomplete": true,
   "bibliofile": "biblio.bib",
   "cite_by": "apalike",
   "current_citInitial": 1,
   "eqLabelWithNumbers": true,
   "eqNumInitial": 1,
   "hotkeys": {
    "equation": "Ctrl-E",
    "itemize": "Ctrl-I"
   },
   "labels_anchors": false,
   "latex_user_defs": false,
   "report_style_numbering": false,
   "user_envs_cfg": false
  },
  "nteract": {
   "version": "0.12.3"
  }
 },
 "nbformat": 4,
 "nbformat_minor": 2
}
