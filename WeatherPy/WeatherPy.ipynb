{
 "cells": [
  {
   "cell_type": "markdown",
   "metadata": {},
   "source": [
    "# WeatherPy\n",
    "----\n",
    "\n",
    "#### Note\n",
    "* Instructions have been included for each segment. You do not have to follow them exactly, but they are included to help you think through the steps."
   ]
  },
  {
   "cell_type": "code",
   "execution_count": 1,
   "metadata": {
    "scrolled": true
   },
   "outputs": [],
   "source": [
    "# Dependencies and Setup\n",
    "import matplotlib.pyplot as plt\n",
    "import pandas as pd\n",
    "import numpy as np\n",
    "import requests\n",
    "import time\n",
    "from scipy.stats import linregress\n",
    "\n",
    "# Import API key\n",
    "from api_keys import weather_api_key\n",
    "\n",
    "# Incorporated citipy to determine city based on latitude and longitude\n",
    "from citipy import citipy\n",
    "\n",
    "# Output File (CSV)\n",
    "output_data_file = \"output_data/cities.csv\"\n",
    "\n",
    "# Range of latitudes and longitudes\n",
    "lat_range = (-90, 90)\n",
    "lng_range = (-180, 180)"
   ]
  },
  {
   "cell_type": "markdown",
   "metadata": {},
   "source": [
    "## Generate Cities List"
   ]
  },
  {
   "cell_type": "code",
   "execution_count": 2,
   "metadata": {},
   "outputs": [
    {
     "data": {
      "text/plain": [
       "603"
      ]
     },
     "execution_count": 2,
     "metadata": {},
     "output_type": "execute_result"
    }
   ],
   "source": [
    "# List for holding lat_lngs and cities\n",
    "lat_lngs = []\n",
    "cities = []\n",
    "\n",
    "# Create a set of random lat and lng combinations\n",
    "lats = np.random.uniform(lat_range[0], lat_range[1], size=1500)\n",
    "lngs = np.random.uniform(lng_range[0], lng_range[1], size=1500)\n",
    "lat_lngs = zip(lats, lngs)\n",
    "\n",
    "# Identify nearest city for each lat, lng combination\n",
    "for lat_lng in lat_lngs:\n",
    "    city = citipy.nearest_city(lat_lng[0], lat_lng[1]).city_name\n",
    "    \n",
    "    # If the city is unique, then add it to a our cities list\n",
    "    if city not in cities:\n",
    "        cities.append(city)\n",
    "\n",
    "# Print the city count to confirm sufficient count\n",
    "len(cities)"
   ]
  },
  {
   "cell_type": "markdown",
   "metadata": {},
   "source": [
    "### Perform API Calls\n",
    "* Perform a weather check on each city using a series of successive API calls.\n",
    "* Include a print log of each city as it'sbeing processed (with the city number and city name).\n"
   ]
  },
  {
   "cell_type": "code",
   "execution_count": 3,
   "metadata": {},
   "outputs": [
    {
     "name": "stdout",
     "output_type": "stream",
     "text": [
      "Processing record: 1 of set: 1 | benalla\n",
      "Processing record: 2 of set: 1 | atuona\n",
      "Processing record: 3 of set: 1 | jamestown\n",
      "Processing record: 4 of set: 1 | wuhu\n",
      "Processing record: 5 of set: 1 | bonavista\n",
      "Processing record: 6 of set: 1 | sechura\n",
      "Processing record: 7 of set: 1 | hithadhoo\n",
      "Processing record: 8 of set: 1 | puerto ayora\n",
      "Processing record: 9 of set: 1 | lebu\n",
      "Processing record: 10 of set: 1 | margate\n",
      "Processing record: 11 of set: 1 | airai\n",
      "Processing record: 12 of set: 1 | mataura\n",
      "Processing record: 13 of set: 1 | sal rei\n",
      "Processing record: 14 of set: 1 | teguise\n",
      "No weather data found\n",
      "Processing record: 16 of set: 1 | muravlenko\n",
      "Processing record: 17 of set: 1 | chernyshevskiy\n",
      "Processing record: 18 of set: 1 | cidreira\n",
      "Processing record: 19 of set: 1 | ushuaia\n",
      "Processing record: 20 of set: 1 | nouadhibou\n",
      "Processing record: 21 of set: 1 | esperance\n",
      "Processing record: 22 of set: 1 | kodiak\n",
      "Processing record: 23 of set: 1 | opuwo\n",
      "Processing record: 24 of set: 1 | albany\n",
      "Processing record: 25 of set: 1 | trairi\n",
      "Processing record: 26 of set: 1 | aitape\n",
      "No weather data found\n",
      "No weather data found\n",
      "Processing record: 29 of set: 1 | bluff\n",
      "No weather data found\n",
      "Processing record: 31 of set: 1 | san cristobal\n",
      "Processing record: 32 of set: 1 | powell river\n",
      "Processing record: 33 of set: 1 | hilo\n",
      "Processing record: 34 of set: 1 | hermanus\n",
      "Processing record: 35 of set: 1 | rikitea\n",
      "Processing record: 36 of set: 1 | dikson\n",
      "No weather data found\n",
      "No weather data found\n",
      "Processing record: 39 of set: 1 | mar del plata\n",
      "Processing record: 40 of set: 1 | cherskiy\n",
      "No weather data found\n",
      "Processing record: 42 of set: 1 | dixon\n",
      "Processing record: 43 of set: 1 | gamba\n",
      "Processing record: 44 of set: 1 | fortuna\n",
      "Processing record: 45 of set: 1 | tekkali\n",
      "Processing record: 46 of set: 1 | ponta do sol\n",
      "Processing record: 47 of set: 1 | georgetown\n",
      "Processing record: 48 of set: 1 | vanimo\n",
      "Processing record: 49 of set: 1 | udimskiy\n",
      "Processing record: 50 of set: 1 | cayenne\n",
      "Processing record: 1 of set: 2 | san patricio\n",
      "Processing record: 2 of set: 2 | busselton\n",
      "Processing record: 3 of set: 2 | olkhovka\n",
      "Processing record: 4 of set: 2 | hasaki\n",
      "Processing record: 5 of set: 2 | vaini\n",
      "No weather data found\n",
      "Processing record: 7 of set: 2 | butaritari\n",
      "Processing record: 8 of set: 2 | kavieng\n",
      "Processing record: 9 of set: 2 | tual\n",
      "Processing record: 10 of set: 2 | punta arenas\n",
      "No weather data found\n",
      "Processing record: 12 of set: 2 | chifeng\n",
      "Processing record: 13 of set: 2 | dingle\n",
      "Processing record: 14 of set: 2 | port lincoln\n",
      "Processing record: 15 of set: 2 | carnarvon\n",
      "Processing record: 16 of set: 2 | castro\n",
      "Processing record: 17 of set: 2 | khatanga\n",
      "Processing record: 18 of set: 2 | nikko\n",
      "Processing record: 19 of set: 2 | hobart\n",
      "Processing record: 20 of set: 2 | starosubkhangulovo\n",
      "No weather data found\n",
      "Processing record: 22 of set: 2 | asfi\n",
      "Processing record: 23 of set: 2 | cape town\n",
      "Processing record: 24 of set: 2 | nikolskoye\n",
      "Processing record: 25 of set: 2 | pangody\n",
      "Processing record: 26 of set: 2 | kapaa\n",
      "No weather data found\n",
      "Processing record: 28 of set: 2 | shieli\n",
      "No weather data found\n",
      "Processing record: 30 of set: 2 | san antonio\n",
      "Processing record: 31 of set: 2 | lompoc\n",
      "Processing record: 32 of set: 2 | kaitangata\n",
      "Processing record: 33 of set: 2 | port alfred\n",
      "Processing record: 34 of set: 2 | saint-philippe\n",
      "Processing record: 35 of set: 2 | bethel\n",
      "Processing record: 36 of set: 2 | severo-kurilsk\n",
      "Processing record: 37 of set: 2 | luderitz\n",
      "No weather data found\n",
      "Processing record: 39 of set: 2 | qaanaaq\n",
      "Processing record: 40 of set: 2 | hambantota\n",
      "Processing record: 41 of set: 2 | saskylakh\n",
      "Processing record: 42 of set: 2 | maturin\n",
      "Processing record: 43 of set: 2 | maningrida\n",
      "Processing record: 44 of set: 2 | east london\n",
      "Processing record: 45 of set: 2 | tiksi\n",
      "No weather data found\n",
      "No weather data found\n",
      "Processing record: 48 of set: 2 | tiparak\n",
      "Processing record: 49 of set: 2 | coihaique\n",
      "Processing record: 50 of set: 2 | port elizabeth\n",
      "Processing record: 1 of set: 3 | sabha\n",
      "No weather data found\n",
      "Processing record: 3 of set: 3 | qaqortoq\n",
      "No weather data found\n",
      "Processing record: 5 of set: 3 | ilulissat\n",
      "Processing record: 6 of set: 3 | pisco\n",
      "Processing record: 7 of set: 3 | faya\n",
      "Processing record: 8 of set: 3 | verkhnevilyuysk\n",
      "Processing record: 9 of set: 3 | avarua\n",
      "Processing record: 10 of set: 3 | barrow\n",
      "Processing record: 11 of set: 3 | yellowknife\n",
      "Processing record: 12 of set: 3 | fengzhen\n",
      "Processing record: 13 of set: 3 | guatire\n",
      "Processing record: 14 of set: 3 | longyearbyen\n",
      "Processing record: 15 of set: 3 | anadyr\n",
      "Processing record: 16 of set: 3 | faanui\n",
      "Processing record: 17 of set: 3 | show low\n",
      "Processing record: 18 of set: 3 | bengkulu\n",
      "Processing record: 19 of set: 3 | kinkala\n",
      "Processing record: 20 of set: 3 | kusti\n",
      "Processing record: 21 of set: 3 | bougouni\n",
      "Processing record: 22 of set: 3 | vuktyl\n",
      "Processing record: 23 of set: 3 | thinadhoo\n",
      "Processing record: 24 of set: 3 | pevek\n",
      "Processing record: 25 of set: 3 | bredasdorp\n",
      "Processing record: 26 of set: 3 | tsubame\n",
      "Processing record: 27 of set: 3 | nemuro\n",
      "Processing record: 28 of set: 3 | tombouctou\n",
      "Processing record: 29 of set: 3 | labuhan\n",
      "Processing record: 30 of set: 3 | kyzyl-suu\n",
      "Processing record: 31 of set: 3 | castanos\n",
      "Processing record: 32 of set: 3 | erenhot\n",
      "Processing record: 33 of set: 3 | vestmannaeyjar\n",
      "Processing record: 34 of set: 3 | zhob\n",
      "No weather data found\n",
      "Processing record: 36 of set: 3 | vila velha\n",
      "Processing record: 37 of set: 3 | gigmoto\n",
      "No weather data found\n",
      "Processing record: 39 of set: 3 | warri\n",
      "Processing record: 40 of set: 3 | kalmunai\n",
      "Processing record: 41 of set: 3 | turukhansk\n",
      "Processing record: 42 of set: 3 | montepuez\n",
      "Processing record: 43 of set: 3 | tasiilaq\n",
      "Processing record: 44 of set: 3 | vila do maio\n",
      "Processing record: 45 of set: 3 | xuanwu\n",
      "No weather data found\n",
      "Processing record: 47 of set: 3 | adrar\n",
      "Processing record: 48 of set: 3 | kruisfontein\n",
      "Processing record: 49 of set: 3 | mackay\n",
      "Processing record: 50 of set: 3 | whitehorse\n",
      "Processing record: 1 of set: 4 | haines junction\n",
      "Processing record: 2 of set: 4 | lorengau\n",
      "Processing record: 3 of set: 4 | olafsvik\n",
      "Processing record: 4 of set: 4 | thompson\n",
      "Processing record: 5 of set: 4 | sao joao da barra\n",
      "Processing record: 6 of set: 4 | channel-port aux basques\n",
      "Processing record: 7 of set: 4 | merauke\n",
      "Processing record: 8 of set: 4 | anchorage\n",
      "Processing record: 9 of set: 4 | kudahuvadhoo\n",
      "Processing record: 10 of set: 4 | kedrovyy\n",
      "Processing record: 11 of set: 4 | clyde river\n",
      "Processing record: 12 of set: 4 | ribeira grande\n",
      "Processing record: 13 of set: 4 | praia da vitoria\n",
      "Processing record: 14 of set: 4 | dolinsk\n",
      "Processing record: 15 of set: 4 | saint george\n",
      "Processing record: 16 of set: 4 | isangel\n",
      "Processing record: 17 of set: 4 | arraial do cabo\n",
      "Processing record: 18 of set: 4 | krasnogorsk\n",
      "Processing record: 19 of set: 4 | nanakuli\n",
      "Processing record: 20 of set: 4 | asau\n",
      "Processing record: 21 of set: 4 | gandai\n",
      "Processing record: 22 of set: 4 | urk\n",
      "Processing record: 23 of set: 4 | bathsheba\n",
      "Processing record: 24 of set: 4 | taltal\n",
      "Processing record: 25 of set: 4 | longonjo\n",
      "Processing record: 26 of set: 4 | marck\n",
      "Processing record: 27 of set: 4 | muroto\n",
      "Processing record: 28 of set: 4 | yellapur\n",
      "Processing record: 29 of set: 4 | port macquarie\n",
      "Processing record: 30 of set: 4 | youkounkoun\n",
      "Processing record: 31 of set: 4 | batemans bay\n",
      "Processing record: 32 of set: 4 | auki\n",
      "Processing record: 33 of set: 4 | chara\n",
      "No weather data found\n",
      "Processing record: 35 of set: 4 | puerto escondido\n",
      "No weather data found\n",
      "Processing record: 37 of set: 4 | upernavik\n",
      "Processing record: 38 of set: 4 | mahebourg\n",
      "Processing record: 39 of set: 4 | samarai\n",
      "Processing record: 40 of set: 4 | tateyama\n",
      "Processing record: 41 of set: 4 | forestville\n",
      "Processing record: 42 of set: 4 | ambilobe\n",
      "Processing record: 43 of set: 4 | lavrentiya\n",
      "Processing record: 44 of set: 4 | carmen\n",
      "Processing record: 45 of set: 4 | vao\n",
      "Processing record: 46 of set: 4 | safaga\n",
      "Processing record: 47 of set: 4 | sao felix do xingu\n",
      "Processing record: 48 of set: 4 | bilibino\n",
      "Processing record: 49 of set: 4 | sinnamary\n",
      "Processing record: 50 of set: 4 | bouca\n",
      "Processing record: 1 of set: 5 | madera\n"
     ]
    },
    {
     "name": "stdout",
     "output_type": "stream",
     "text": [
      "Processing record: 2 of set: 5 | aras\n",
      "Processing record: 3 of set: 5 | talnakh\n",
      "Processing record: 4 of set: 5 | inirida\n",
      "Processing record: 5 of set: 5 | agirish\n",
      "Processing record: 6 of set: 5 | lope de vega\n",
      "Processing record: 7 of set: 5 | san quintin\n",
      "Processing record: 8 of set: 5 | leningradskiy\n",
      "Processing record: 9 of set: 5 | tezu\n",
      "Processing record: 10 of set: 5 | abu dhabi\n",
      "Processing record: 11 of set: 5 | tuktoyaktuk\n",
      "Processing record: 12 of set: 5 | rudraprayag\n",
      "Processing record: 13 of set: 5 | nome\n",
      "Processing record: 14 of set: 5 | jalu\n",
      "Processing record: 15 of set: 5 | fukue\n",
      "Processing record: 16 of set: 5 | itacoatiara\n",
      "Processing record: 17 of set: 5 | saldanha\n",
      "No weather data found\n",
      "Processing record: 19 of set: 5 | hay river\n",
      "Processing record: 20 of set: 5 | chuy\n",
      "Processing record: 21 of set: 5 | santa cruz de la palma\n",
      "No weather data found\n",
      "Processing record: 23 of set: 5 | klaksvik\n",
      "Processing record: 24 of set: 5 | souillac\n",
      "Processing record: 25 of set: 5 | sao filipe\n",
      "Processing record: 26 of set: 5 | olden\n",
      "Processing record: 27 of set: 5 | evensk\n",
      "Processing record: 28 of set: 5 | mahanje\n",
      "Processing record: 29 of set: 5 | wajima\n",
      "Processing record: 30 of set: 5 | new norfolk\n",
      "Processing record: 31 of set: 5 | iquique\n",
      "Processing record: 32 of set: 5 | seddon\n",
      "Processing record: 33 of set: 5 | cortez\n",
      "Processing record: 34 of set: 5 | sarangani\n",
      "Processing record: 35 of set: 5 | nioki\n",
      "Processing record: 36 of set: 5 | matara\n",
      "No weather data found\n",
      "Processing record: 38 of set: 5 | kohlu\n",
      "Processing record: 39 of set: 5 | smithers\n",
      "Processing record: 40 of set: 5 | ust-omchug\n",
      "No weather data found\n",
      "Processing record: 42 of set: 5 | comodoro rivadavia\n",
      "No weather data found\n",
      "Processing record: 44 of set: 5 | pullman\n",
      "Processing record: 45 of set: 5 | grindavik\n",
      "Processing record: 46 of set: 5 | itupiranga\n",
      "Processing record: 47 of set: 5 | nanortalik\n",
      "No weather data found\n",
      "Processing record: 49 of set: 5 | bilma\n",
      "Processing record: 50 of set: 5 | morondava\n",
      "No weather data found\n",
      "Processing record: 2 of set: 6 | pacifica\n",
      "Processing record: 3 of set: 6 | marawi\n",
      "Processing record: 4 of set: 6 | shahrud\n",
      "Processing record: 5 of set: 6 | boguchany\n",
      "Processing record: 6 of set: 6 | aksarka\n",
      "Processing record: 7 of set: 6 | san luis\n",
      "Processing record: 8 of set: 6 | coos bay\n",
      "Processing record: 9 of set: 6 | bambous virieux\n",
      "Processing record: 10 of set: 6 | norman wells\n",
      "Processing record: 11 of set: 6 | le port\n",
      "Processing record: 12 of set: 6 | nara\n",
      "Processing record: 13 of set: 6 | baijiantan\n",
      "Processing record: 14 of set: 6 | helong\n",
      "Processing record: 15 of set: 6 | tautira\n",
      "Processing record: 16 of set: 6 | provideniya\n",
      "No weather data found\n",
      "Processing record: 18 of set: 6 | ixtapa\n",
      "Processing record: 19 of set: 6 | newberg\n",
      "Processing record: 20 of set: 6 | cobija\n",
      "Processing record: 21 of set: 6 | carlagan\n",
      "Processing record: 22 of set: 6 | gajendragarh\n",
      "Processing record: 23 of set: 6 | chardara\n",
      "Processing record: 24 of set: 6 | atambua\n",
      "Processing record: 25 of set: 6 | nhulunbuy\n",
      "Processing record: 26 of set: 6 | vesyegonsk\n",
      "Processing record: 27 of set: 6 | aguadilla\n",
      "Processing record: 28 of set: 6 | hasan abdal\n",
      "Processing record: 29 of set: 6 | portland\n",
      "Processing record: 30 of set: 6 | santa fe\n",
      "Processing record: 31 of set: 6 | mount gambier\n",
      "Processing record: 32 of set: 6 | ostrovnoy\n",
      "Processing record: 33 of set: 6 | monroe\n",
      "Processing record: 34 of set: 6 | fairbanks\n",
      "Processing record: 35 of set: 6 | nyurba\n",
      "Processing record: 36 of set: 6 | kangaatsiaq\n",
      "Processing record: 37 of set: 6 | torbay\n",
      "Processing record: 38 of set: 6 | miyako\n",
      "Processing record: 39 of set: 6 | petropavlovsk-kamchatskiy\n",
      "No weather data found\n",
      "No weather data found\n",
      "Processing record: 42 of set: 6 | marechal deodoro\n",
      "Processing record: 43 of set: 6 | necochea\n",
      "Processing record: 44 of set: 6 | osakarovka\n",
      "Processing record: 45 of set: 6 | ancud\n",
      "Processing record: 46 of set: 6 | killybegs\n",
      "Processing record: 47 of set: 6 | goderich\n",
      "Processing record: 48 of set: 6 | nata\n",
      "No weather data found\n",
      "Processing record: 50 of set: 6 | codrington\n",
      "No weather data found\n",
      "Processing record: 2 of set: 7 | cairns\n",
      "Processing record: 3 of set: 7 | yar-sale\n",
      "Processing record: 4 of set: 7 | malko tarnovo\n",
      "Processing record: 5 of set: 7 | turayf\n",
      "Processing record: 6 of set: 7 | palmer\n",
      "Processing record: 7 of set: 7 | lubango\n",
      "Processing record: 8 of set: 7 | kalutara\n",
      "Processing record: 9 of set: 7 | tayoltita\n",
      "Processing record: 10 of set: 7 | ocos\n",
      "Processing record: 11 of set: 7 | victoria\n",
      "Processing record: 12 of set: 7 | cabo san lucas\n",
      "Processing record: 13 of set: 7 | kavaratti\n",
      "Processing record: 14 of set: 7 | kupang\n",
      "Processing record: 15 of set: 7 | tuatapere\n",
      "Processing record: 16 of set: 7 | kano\n",
      "Processing record: 17 of set: 7 | dargaville\n",
      "Processing record: 18 of set: 7 | tahlequah\n",
      "Processing record: 19 of set: 7 | xiamen\n",
      "Processing record: 20 of set: 7 | coquimbo\n",
      "Processing record: 21 of set: 7 | touros\n",
      "Processing record: 22 of set: 7 | narsaq\n",
      "Processing record: 23 of set: 7 | ormara\n",
      "No weather data found\n",
      "Processing record: 25 of set: 7 | krasnovishersk\n",
      "Processing record: 26 of set: 7 | manggar\n",
      "Processing record: 27 of set: 7 | kununurra\n",
      "Processing record: 28 of set: 7 | san miguel\n",
      "Processing record: 29 of set: 7 | ivanovka\n",
      "Processing record: 30 of set: 7 | carlisle\n",
      "No weather data found\n",
      "Processing record: 32 of set: 7 | fort-shevchenko\n",
      "Processing record: 33 of set: 7 | bykovo\n",
      "Processing record: 34 of set: 7 | nuevo progreso\n",
      "Processing record: 35 of set: 7 | flinders\n",
      "Processing record: 36 of set: 7 | kaeo\n",
      "Processing record: 37 of set: 7 | fort nelson\n",
      "No weather data found\n",
      "Processing record: 39 of set: 7 | little current\n",
      "Processing record: 40 of set: 7 | egvekinot\n",
      "Processing record: 41 of set: 7 | chokurdakh\n",
      "Processing record: 42 of set: 7 | shimoda\n",
      "Processing record: 43 of set: 7 | urengoy\n",
      "Processing record: 44 of set: 7 | kunming\n",
      "Processing record: 45 of set: 7 | iqaluit\n",
      "Processing record: 46 of set: 7 | ahipara\n",
      "Processing record: 47 of set: 7 | lagoa\n",
      "Processing record: 48 of set: 7 | te anau\n",
      "Processing record: 49 of set: 7 | novikovo\n",
      "Processing record: 50 of set: 7 | kashkhatau\n",
      "Processing record: 1 of set: 8 | nefteyugansk\n",
      "Processing record: 2 of set: 8 | goma\n",
      "Processing record: 3 of set: 8 | macenta\n",
      "Processing record: 4 of set: 8 | sorland\n",
      "Processing record: 5 of set: 8 | alofi\n",
      "Processing record: 6 of set: 8 | katsuura\n",
      "Processing record: 7 of set: 8 | antofagasta\n",
      "Processing record: 8 of set: 8 | katobu\n",
      "No weather data found\n",
      "Processing record: 10 of set: 8 | vila franca do campo\n",
      "Processing record: 11 of set: 8 | bambanglipuro\n",
      "Processing record: 12 of set: 8 | baracoa\n",
      "No weather data found\n",
      "Processing record: 14 of set: 8 | saurimo\n",
      "Processing record: 15 of set: 8 | monrovia\n",
      "Processing record: 16 of set: 8 | buala\n",
      "Processing record: 17 of set: 8 | quepos\n",
      "Processing record: 18 of set: 8 | meulaboh\n",
      "Processing record: 19 of set: 8 | vanavara\n",
      "Processing record: 20 of set: 8 | maraa\n",
      "Processing record: 21 of set: 8 | nuevo ideal\n",
      "Processing record: 22 of set: 8 | reigate\n",
      "Processing record: 23 of set: 8 | verkhoyansk\n",
      "Processing record: 24 of set: 8 | lotofaga\n",
      "Processing record: 25 of set: 8 | mount isa\n",
      "Processing record: 26 of set: 8 | aklavik\n",
      "Processing record: 27 of set: 8 | sitka\n",
      "Processing record: 28 of set: 8 | mopti\n",
      "Processing record: 29 of set: 8 | mnogovershinnyy\n",
      "Processing record: 30 of set: 8 | kulhudhuffushi\n",
      "Processing record: 31 of set: 8 | nioro\n",
      "Processing record: 32 of set: 8 | saint anthony\n",
      "Processing record: 33 of set: 8 | imbituba\n",
      "No weather data found\n",
      "Processing record: 35 of set: 8 | ankazobe\n",
      "Processing record: 36 of set: 8 | guerrero negro\n",
      "Processing record: 37 of set: 8 | marzuq\n",
      "Processing record: 38 of set: 8 | bubaque\n",
      "Processing record: 39 of set: 8 | konevo\n",
      "Processing record: 40 of set: 8 | honiara\n",
      "Processing record: 41 of set: 8 | maldonado\n",
      "Processing record: 42 of set: 8 | madisonville\n",
      "No weather data found\n",
      "Processing record: 44 of set: 8 | srednekolymsk\n",
      "Processing record: 45 of set: 8 | yulara\n",
      "Processing record: 46 of set: 8 | emerald\n",
      "Processing record: 47 of set: 8 | khandyga\n",
      "Processing record: 48 of set: 8 | bud\n",
      "Processing record: 49 of set: 8 | dubai\n",
      "Processing record: 50 of set: 8 | port blair\n",
      "No weather data found\n"
     ]
    },
    {
     "name": "stdout",
     "output_type": "stream",
     "text": [
      "Processing record: 2 of set: 9 | xining\n",
      "Processing record: 3 of set: 9 | riyadh\n",
      "Processing record: 4 of set: 9 | rabo de peixe\n",
      "Processing record: 5 of set: 9 | constitucion\n",
      "Processing record: 6 of set: 9 | talcahuano\n",
      "Processing record: 7 of set: 9 | luanda\n",
      "Processing record: 8 of set: 9 | astana\n",
      "Processing record: 9 of set: 9 | champerico\n",
      "Processing record: 10 of set: 9 | hirara\n",
      "Processing record: 11 of set: 9 | asyut\n",
      "Processing record: 12 of set: 9 | mandalgovi\n",
      "Processing record: 13 of set: 9 | havelock\n",
      "Processing record: 14 of set: 9 | mahibadhoo\n",
      "Processing record: 15 of set: 9 | paamiut\n",
      "Processing record: 16 of set: 9 | nang rong\n",
      "Processing record: 17 of set: 9 | plettenberg bay\n",
      "Processing record: 18 of set: 9 | jiuquan\n",
      "Processing record: 19 of set: 9 | bandarbeyla\n",
      "Processing record: 20 of set: 9 | huanren\n",
      "Processing record: 21 of set: 9 | dukat\n",
      "Processing record: 22 of set: 9 | vostok\n",
      "No weather data found\n",
      "Processing record: 24 of set: 9 | sept-iles\n",
      "No weather data found\n",
      "Processing record: 26 of set: 9 | manokwari\n",
      "Processing record: 27 of set: 9 | chabahar\n",
      "Processing record: 28 of set: 9 | alhama de murcia\n",
      "Processing record: 29 of set: 9 | punta gorda\n",
      "No weather data found\n",
      "Processing record: 31 of set: 9 | dhidhdhoo\n",
      "Processing record: 32 of set: 9 | tazovskiy\n",
      "Processing record: 33 of set: 9 | kuusamo\n",
      "Processing record: 34 of set: 9 | manakara\n",
      "Processing record: 35 of set: 9 | prabumulih\n",
      "Processing record: 36 of set: 9 | kidodi\n",
      "Processing record: 37 of set: 9 | lismore\n",
      "Processing record: 38 of set: 9 | kahului\n",
      "Processing record: 39 of set: 9 | sao gabriel da cachoeira\n",
      "Processing record: 40 of set: 9 | la palma\n",
      "Processing record: 41 of set: 9 | kuito\n",
      "No weather data found\n",
      "Processing record: 43 of set: 9 | slavutych\n",
      "Processing record: 44 of set: 9 | vila\n",
      "Processing record: 45 of set: 9 | ucluelet\n",
      "Processing record: 46 of set: 9 | bilecik\n",
      "Processing record: 47 of set: 9 | ternate\n",
      "Processing record: 48 of set: 9 | karratha\n",
      "Processing record: 49 of set: 9 | tawau\n",
      "Processing record: 50 of set: 9 | adre\n",
      "Processing record: 1 of set: 10 | ontario\n",
      "Processing record: 2 of set: 10 | cockburn town\n",
      "Processing record: 3 of set: 10 | arkhangelsk\n",
      "Processing record: 4 of set: 10 | korla\n",
      "Processing record: 5 of set: 10 | manga\n",
      "Processing record: 6 of set: 10 | sakaiminato\n",
      "Processing record: 7 of set: 10 | cururupu\n",
      "Processing record: 8 of set: 10 | gwanda\n",
      "Processing record: 9 of set: 10 | trinidad\n",
      "Processing record: 10 of set: 10 | lengshuijiang\n",
      "No weather data found\n",
      "Processing record: 12 of set: 10 | ballina\n",
      "Processing record: 13 of set: 10 | yatou\n",
      "Processing record: 14 of set: 10 | voh\n",
      "No weather data found\n",
      "Processing record: 16 of set: 10 | arman\n",
      "Processing record: 17 of set: 10 | walvis bay\n",
      "Processing record: 18 of set: 10 | paducah\n",
      "Processing record: 19 of set: 10 | divnomorskoye\n",
      "Processing record: 20 of set: 10 | kitale\n",
      "Processing record: 21 of set: 10 | maragogi\n",
      "No weather data found\n",
      "Processing record: 23 of set: 10 | tehachapi\n",
      "Processing record: 24 of set: 10 | buarcos\n",
      "Processing record: 25 of set: 10 | moree\n",
      "Processing record: 26 of set: 10 | mayor pablo lagerenza\n",
      "Processing record: 27 of set: 10 | nalut\n",
      "Processing record: 28 of set: 10 | abu samrah\n",
      "Processing record: 29 of set: 10 | tutora\n",
      "Processing record: 30 of set: 10 | villa carlos paz\n",
      "Processing record: 31 of set: 10 | nuuk\n",
      "Processing record: 32 of set: 10 | soe\n",
      "Processing record: 33 of set: 10 | edmundston\n",
      "Processing record: 34 of set: 10 | kovacica\n",
      "Processing record: 35 of set: 10 | padang\n",
      "No weather data found\n",
      "Processing record: 37 of set: 10 | mae hong son\n",
      "Processing record: 38 of set: 10 | radhanpur\n",
      "Processing record: 39 of set: 10 | beringovskiy\n",
      "Processing record: 40 of set: 10 | richards bay\n",
      "Processing record: 41 of set: 10 | nsanje\n",
      "No weather data found\n",
      "Processing record: 43 of set: 10 | olinda\n",
      "Processing record: 44 of set: 10 | gimli\n",
      "Processing record: 45 of set: 10 | berdigestyakh\n",
      "Processing record: 46 of set: 10 | tuim\n",
      "No weather data found\n",
      "Processing record: 48 of set: 10 | pervoye maya\n",
      "Processing record: 49 of set: 10 | springfield\n",
      "Processing record: 50 of set: 10 | raikot\n",
      "Processing record: 1 of set: 11 | kutum\n",
      "No weather data found\n",
      "Processing record: 3 of set: 11 | hualmay\n",
      "Processing record: 4 of set: 11 | ippy\n",
      "Processing record: 5 of set: 11 | kalmar\n",
      "Processing record: 6 of set: 11 | mus\n",
      "Processing record: 7 of set: 11 | smirnykh\n",
      "Processing record: 8 of set: 11 | gallup\n",
      "Processing record: 9 of set: 11 | banjarmasin\n",
      "Processing record: 10 of set: 11 | pangnirtung\n",
      "Processing record: 11 of set: 11 | manzil salim\n",
      "Processing record: 12 of set: 11 | huazhou\n",
      "Processing record: 13 of set: 11 | rafaela\n",
      "Processing record: 14 of set: 11 | mairana\n",
      "Processing record: 15 of set: 11 | tuburan\n",
      "Processing record: 16 of set: 11 | santa cruz\n",
      "Processing record: 17 of set: 11 | kodinsk\n",
      "Processing record: 18 of set: 11 | carlsbad\n",
      "Processing record: 19 of set: 11 | plainview\n",
      "Processing record: 20 of set: 11 | sibolga\n",
      "Processing record: 21 of set: 11 | alice springs\n",
      "Processing record: 22 of set: 11 | colares\n",
      "Processing record: 23 of set: 11 | ryzdvyanyy\n",
      "Processing record: 24 of set: 11 | denpasar\n",
      "Processing record: 25 of set: 11 | vista hermosa\n",
      "Processing record: 26 of set: 11 | makat\n",
      "Processing record: 27 of set: 11 | laguna\n",
      "Processing record: 28 of set: 11 | abha\n",
      "No weather data found\n",
      "Processing record: 30 of set: 11 | kuandian\n",
      "Processing record: 31 of set: 11 | llangefni\n",
      "Processing record: 32 of set: 11 | bobrovskiy\n",
      "Processing record: 33 of set: 11 | kashi\n",
      "Processing record: 34 of set: 11 | tyrma\n",
      "Processing record: 35 of set: 11 | benjamin constant\n",
      "Processing record: 36 of set: 11 | gambela\n",
      "Processing record: 37 of set: 11 | dublin\n",
      "Processing record: 38 of set: 11 | suntar\n",
      "Processing record: 39 of set: 11 | armidale\n",
      "Processing record: 40 of set: 11 | la belleza\n",
      "Processing record: 41 of set: 11 | bithur\n",
      "Processing record: 42 of set: 11 | valdivia\n",
      "Processing record: 43 of set: 11 | okhotsk\n",
      "Processing record: 44 of set: 11 | soma\n",
      "Processing record: 45 of set: 11 | namibe\n",
      "No weather data found\n",
      "Processing record: 47 of set: 11 | icod de los vinos\n",
      "Processing record: 48 of set: 11 | svetlaya\n",
      "Processing record: 49 of set: 11 | rocha\n",
      "Processing record: 50 of set: 11 | along\n",
      "Processing record: 1 of set: 12 | zhezkazgan\n",
      "Processing record: 2 of set: 12 | mayumba\n",
      "No weather data found\n",
      "Processing record: 4 of set: 12 | caravelas\n",
      "Processing record: 5 of set: 12 | kovur\n",
      "Processing record: 6 of set: 12 | tabligbo\n",
      "Processing record: 7 of set: 12 | gizo\n",
      "Processing record: 8 of set: 12 | calvinia\n",
      "Processing record: 9 of set: 12 | port hardy\n",
      "Processing record: 10 of set: 12 | mana\n",
      "Processing record: 11 of set: 12 | sarahan\n",
      "Processing record: 12 of set: 12 | pinhao\n",
      "No weather data found\n",
      "Processing record: 14 of set: 12 | ilebo\n",
      "Processing record: 15 of set: 12 | fougamou\n",
      "Processing record: 16 of set: 12 | naze\n",
      "Processing record: 17 of set: 12 | la ronge\n",
      "Processing record: 18 of set: 12 | road town\n",
      "Processing record: 19 of set: 12 | qui nhon\n",
      "Processing record: 20 of set: 12 | san andres\n",
      "Processing record: 21 of set: 12 | alyangula\n",
      "Processing record: 22 of set: 12 | batagay-alyta\n",
      "Processing record: 23 of set: 12 | tsevie\n",
      "Processing record: 24 of set: 12 | broome\n",
      "Processing record: 25 of set: 12 | brae\n",
      "Processing record: 26 of set: 12 | yerbogachen\n",
      "Processing record: 27 of set: 12 | kualakapuas\n",
      "Processing record: 28 of set: 12 | mangan\n",
      "Processing record: 29 of set: 12 | dabou\n",
      "Processing record: 30 of set: 12 | am timan\n",
      "Processing record: 31 of set: 12 | tuskegee\n",
      "Processing record: 32 of set: 12 | dickinson\n",
      "Processing record: 33 of set: 12 | sao miguel do araguaia\n",
      "Processing record: 34 of set: 12 | chapais\n",
      "Processing record: 35 of set: 12 | gravdal\n",
      "Processing record: 36 of set: 12 | menongue\n",
      "Processing record: 37 of set: 12 | kautokeino\n",
      "Processing record: 38 of set: 12 | vardo\n",
      "Processing record: 39 of set: 12 | willmar\n",
      "Processing record: 40 of set: 12 | comarapa\n",
      "Processing record: 41 of set: 12 | vinh\n",
      "Processing record: 42 of set: 12 | eydhafushi\n",
      "Processing record: 43 of set: 12 | salalah\n",
      "Processing record: 44 of set: 12 | bundaberg\n",
      "Processing record: 45 of set: 12 | isla mujeres\n",
      "Processing record: 46 of set: 12 | najran\n"
     ]
    },
    {
     "name": "stdout",
     "output_type": "stream",
     "text": [
      "Processing record: 47 of set: 12 | husavik\n",
      "Processing record: 48 of set: 12 | umm lajj\n",
      "Processing record: 49 of set: 12 | muros\n",
      "Processing record: 50 of set: 12 | at-bashi\n",
      "Processing record: 1 of set: 13 | manaus\n",
      "Processing record: 2 of set: 13 | natitingou\n",
      "Processing record: 3 of set: 13 | batesville\n"
     ]
    }
   ],
   "source": [
    "url = \"http://api.openweathermap.org/data/2.5/weather?\"\n",
    "units = \"imperial\"\n",
    " \n",
    "#Partial query url\n",
    "query_url = f'{url}appid={weather_api_key}&units={units}&q='\n",
    "\n",
    "#set up lists to hold response info\n",
    "city_name = []\n",
    "lat = []\n",
    "long = []\n",
    "temp = []\n",
    "humidity = []\n",
    "cloudiness = []\n",
    "windspeed = []\n",
    "country = []\n",
    "date = []\n",
    "   \n",
    "city_count = 0\n",
    "sets = 1\n",
    "\n",
    "# Loop through the list of cities and perform a request for data on each\n",
    "for city in cities:\n",
    "    response = requests.get(query_url + city).json()\n",
    "    \n",
    "    if city_count <= 49:\n",
    "        city_count = city_count + 1\n",
    "    else:\n",
    "        city_count = 1\n",
    "        sets = sets + 1\n",
    "        \n",
    "    #print(f\"city count {city_count} and sets {sets}\")\n",
    "        \n",
    "#Print out city name with index\n",
    "      \n",
    "    try:\n",
    "        city_name.append(response[\"name\"])\n",
    "        lat.append(response[\"coord\"][\"lat\"])\n",
    "        long.append(response[\"coord\"][\"lon\"])\n",
    "        temp.append(response[\"main\"][\"temp_max\"])\n",
    "        humidity.append(response[\"main\"][\"humidity\"])\n",
    "        cloudiness.append(response[\"clouds\"][\"all\"])\n",
    "        windspeed.append(response[\"wind\"][\"speed\"])\n",
    "        country.append(response[\"sys\"][\"country\"])\n",
    "        date.append(response[\"dt\"])\n",
    "        print(f\"Processing record: {city_count} of set: {sets} | {city}\")\n",
    "    except KeyError:\n",
    "        print(\"No weather data found\")\n",
    "\n",
    "\n"
   ]
  },
  {
   "cell_type": "markdown",
   "metadata": {},
   "source": [
    "### Convert Raw Data to DataFrame\n",
    "* Export the city data into a .csv.\n",
    "* Display the DataFrame"
   ]
  },
  {
   "cell_type": "code",
   "execution_count": 4,
   "metadata": {},
   "outputs": [
    {
     "data": {
      "text/html": [
       "<div>\n",
       "<style scoped>\n",
       "    .dataframe tbody tr th:only-of-type {\n",
       "        vertical-align: middle;\n",
       "    }\n",
       "\n",
       "    .dataframe tbody tr th {\n",
       "        vertical-align: top;\n",
       "    }\n",
       "\n",
       "    .dataframe thead th {\n",
       "        text-align: right;\n",
       "    }\n",
       "</style>\n",
       "<table border=\"1\" class=\"dataframe\">\n",
       "  <thead>\n",
       "    <tr style=\"text-align: right;\">\n",
       "      <th></th>\n",
       "      <th>city</th>\n",
       "      <th>latitude</th>\n",
       "      <th>longitude</th>\n",
       "      <th>max temp (F)</th>\n",
       "      <th>humidity</th>\n",
       "      <th>cloudiness</th>\n",
       "      <th>windspeed</th>\n",
       "      <th>country</th>\n",
       "      <th>date</th>\n",
       "    </tr>\n",
       "  </thead>\n",
       "  <tbody>\n",
       "    <tr>\n",
       "      <th>0</th>\n",
       "      <td>Benalla</td>\n",
       "      <td>-36.55</td>\n",
       "      <td>145.98</td>\n",
       "      <td>48.99</td>\n",
       "      <td>70</td>\n",
       "      <td>40</td>\n",
       "      <td>11.41</td>\n",
       "      <td>AU</td>\n",
       "      <td>1596503427</td>\n",
       "    </tr>\n",
       "    <tr>\n",
       "      <th>1</th>\n",
       "      <td>Atuona</td>\n",
       "      <td>-9.80</td>\n",
       "      <td>-139.03</td>\n",
       "      <td>79.36</td>\n",
       "      <td>72</td>\n",
       "      <td>0</td>\n",
       "      <td>13.44</td>\n",
       "      <td>PF</td>\n",
       "      <td>1596503427</td>\n",
       "    </tr>\n",
       "    <tr>\n",
       "      <th>2</th>\n",
       "      <td>Jamestown</td>\n",
       "      <td>42.10</td>\n",
       "      <td>-79.24</td>\n",
       "      <td>66.00</td>\n",
       "      <td>93</td>\n",
       "      <td>90</td>\n",
       "      <td>1.54</td>\n",
       "      <td>US</td>\n",
       "      <td>1596503427</td>\n",
       "    </tr>\n",
       "    <tr>\n",
       "      <th>3</th>\n",
       "      <td>Wuhu</td>\n",
       "      <td>31.34</td>\n",
       "      <td>118.38</td>\n",
       "      <td>84.20</td>\n",
       "      <td>79</td>\n",
       "      <td>75</td>\n",
       "      <td>8.95</td>\n",
       "      <td>CN</td>\n",
       "      <td>1596503427</td>\n",
       "    </tr>\n",
       "    <tr>\n",
       "      <th>4</th>\n",
       "      <td>Bonavista</td>\n",
       "      <td>48.65</td>\n",
       "      <td>-53.11</td>\n",
       "      <td>68.00</td>\n",
       "      <td>72</td>\n",
       "      <td>43</td>\n",
       "      <td>15.01</td>\n",
       "      <td>CA</td>\n",
       "      <td>1596503313</td>\n",
       "    </tr>\n",
       "    <tr>\n",
       "      <th>...</th>\n",
       "      <td>...</td>\n",
       "      <td>...</td>\n",
       "      <td>...</td>\n",
       "      <td>...</td>\n",
       "      <td>...</td>\n",
       "      <td>...</td>\n",
       "      <td>...</td>\n",
       "      <td>...</td>\n",
       "      <td>...</td>\n",
       "    </tr>\n",
       "    <tr>\n",
       "      <th>541</th>\n",
       "      <td>Muros</td>\n",
       "      <td>42.78</td>\n",
       "      <td>-9.06</td>\n",
       "      <td>66.00</td>\n",
       "      <td>84</td>\n",
       "      <td>30</td>\n",
       "      <td>7.18</td>\n",
       "      <td>ES</td>\n",
       "      <td>1596503560</td>\n",
       "    </tr>\n",
       "    <tr>\n",
       "      <th>542</th>\n",
       "      <td>At-Bashi</td>\n",
       "      <td>41.17</td>\n",
       "      <td>75.81</td>\n",
       "      <td>56.08</td>\n",
       "      <td>50</td>\n",
       "      <td>0</td>\n",
       "      <td>0.47</td>\n",
       "      <td>KG</td>\n",
       "      <td>1596503560</td>\n",
       "    </tr>\n",
       "    <tr>\n",
       "      <th>543</th>\n",
       "      <td>Manaus</td>\n",
       "      <td>-3.10</td>\n",
       "      <td>-60.02</td>\n",
       "      <td>82.40</td>\n",
       "      <td>69</td>\n",
       "      <td>19</td>\n",
       "      <td>3.36</td>\n",
       "      <td>BR</td>\n",
       "      <td>1596503560</td>\n",
       "    </tr>\n",
       "    <tr>\n",
       "      <th>544</th>\n",
       "      <td>Natitingou</td>\n",
       "      <td>10.30</td>\n",
       "      <td>1.38</td>\n",
       "      <td>73.40</td>\n",
       "      <td>94</td>\n",
       "      <td>40</td>\n",
       "      <td>6.93</td>\n",
       "      <td>BJ</td>\n",
       "      <td>1596503560</td>\n",
       "    </tr>\n",
       "    <tr>\n",
       "      <th>545</th>\n",
       "      <td>Batesville</td>\n",
       "      <td>35.77</td>\n",
       "      <td>-91.64</td>\n",
       "      <td>80.60</td>\n",
       "      <td>57</td>\n",
       "      <td>1</td>\n",
       "      <td>4.70</td>\n",
       "      <td>US</td>\n",
       "      <td>1596503340</td>\n",
       "    </tr>\n",
       "  </tbody>\n",
       "</table>\n",
       "<p>546 rows × 9 columns</p>\n",
       "</div>"
      ],
      "text/plain": [
       "           city  latitude  longitude  max temp (F)  humidity  cloudiness  \\\n",
       "0       Benalla    -36.55     145.98         48.99        70          40   \n",
       "1        Atuona     -9.80    -139.03         79.36        72           0   \n",
       "2     Jamestown     42.10     -79.24         66.00        93          90   \n",
       "3          Wuhu     31.34     118.38         84.20        79          75   \n",
       "4     Bonavista     48.65     -53.11         68.00        72          43   \n",
       "..          ...       ...        ...           ...       ...         ...   \n",
       "541       Muros     42.78      -9.06         66.00        84          30   \n",
       "542    At-Bashi     41.17      75.81         56.08        50           0   \n",
       "543      Manaus     -3.10     -60.02         82.40        69          19   \n",
       "544  Natitingou     10.30       1.38         73.40        94          40   \n",
       "545  Batesville     35.77     -91.64         80.60        57           1   \n",
       "\n",
       "     windspeed country        date  \n",
       "0        11.41      AU  1596503427  \n",
       "1        13.44      PF  1596503427  \n",
       "2         1.54      US  1596503427  \n",
       "3         8.95      CN  1596503427  \n",
       "4        15.01      CA  1596503313  \n",
       "..         ...     ...         ...  \n",
       "541       7.18      ES  1596503560  \n",
       "542       0.47      KG  1596503560  \n",
       "543       3.36      BR  1596503560  \n",
       "544       6.93      BJ  1596503560  \n",
       "545       4.70      US  1596503340  \n",
       "\n",
       "[546 rows x 9 columns]"
      ]
     },
     "execution_count": 4,
     "metadata": {},
     "output_type": "execute_result"
    }
   ],
   "source": [
    "#Create DataFrame\n",
    "city_weather = pd.DataFrame({\n",
    "    \"city\":  city_name,\n",
    "    \"latitude\":  lat,\n",
    "    \"longitude\": long,\n",
    "    \"max temp (F)\": temp,\n",
    "    \"humidity\": humidity,\n",
    "    \"cloudiness\": cloudiness,\n",
    "    \"windspeed\": windspeed,\n",
    "    \"country\": country,\n",
    "    \"date\": date\n",
    "})\n",
    "\n",
    "city_weather"
   ]
  },
  {
   "cell_type": "markdown",
   "metadata": {},
   "source": [
    "## Inspect the data and remove the cities where the humidity > 100%.\n",
    "----\n",
    "Skip this step if there are no cities that have humidity > 100%. "
   ]
  },
  {
   "cell_type": "code",
   "execution_count": 5,
   "metadata": {},
   "outputs": [
    {
     "data": {
      "text/html": [
       "<div>\n",
       "<style scoped>\n",
       "    .dataframe tbody tr th:only-of-type {\n",
       "        vertical-align: middle;\n",
       "    }\n",
       "\n",
       "    .dataframe tbody tr th {\n",
       "        vertical-align: top;\n",
       "    }\n",
       "\n",
       "    .dataframe thead th {\n",
       "        text-align: right;\n",
       "    }\n",
       "</style>\n",
       "<table border=\"1\" class=\"dataframe\">\n",
       "  <thead>\n",
       "    <tr style=\"text-align: right;\">\n",
       "      <th></th>\n",
       "      <th>city</th>\n",
       "      <th>latitude</th>\n",
       "      <th>longitude</th>\n",
       "      <th>max temp (F)</th>\n",
       "      <th>humidity</th>\n",
       "      <th>cloudiness</th>\n",
       "      <th>windspeed</th>\n",
       "      <th>country</th>\n",
       "      <th>date</th>\n",
       "    </tr>\n",
       "  </thead>\n",
       "  <tbody>\n",
       "  </tbody>\n",
       "</table>\n",
       "</div>"
      ],
      "text/plain": [
       "Empty DataFrame\n",
       "Columns: [city, latitude, longitude, max temp (F), humidity, cloudiness, windspeed, country, date]\n",
       "Index: []"
      ]
     },
     "execution_count": 5,
     "metadata": {},
     "output_type": "execute_result"
    }
   ],
   "source": [
    "high_humidity = city_weather.loc[city_weather[\"humidity\"] > 100]\n",
    "high_humidity"
   ]
  },
  {
   "cell_type": "code",
   "execution_count": 6,
   "metadata": {},
   "outputs": [],
   "source": [
    "#  Get the indices of cities that have humidity over 100%.\n",
    "\n",
    "#none"
   ]
  },
  {
   "cell_type": "code",
   "execution_count": 7,
   "metadata": {},
   "outputs": [],
   "source": [
    "# Make a new DataFrame equal to the city data to drop all humidity outliers by index.\n",
    "# Passing \"inplace=False\" will make a copy of the city_data DataFrame, which we call \"clean_city_data\".\n",
    "\n",
    "#n/a"
   ]
  },
  {
   "cell_type": "code",
   "execution_count": 8,
   "metadata": {
    "scrolled": true
   },
   "outputs": [],
   "source": [
    "# Extract relevant fields from the data frame\n",
    "\n",
    "\n",
    "# Export the City_Data into a csv\n",
    "# Note to avoid any issues later, use encoding=\"utf-8\"\n",
    "output_data_file = city_weather.to_csv(\"output_data/cities.csv\", encoding=\"utf-8\", index=False)"
   ]
  },
  {
   "cell_type": "markdown",
   "metadata": {},
   "source": [
    "## Plotting the Data\n",
    "* Use proper labeling of the plots using plot titles (including date of analysis) and axes labels.\n",
    "* Save the plotted figures as .pngs."
   ]
  },
  {
   "cell_type": "markdown",
   "metadata": {},
   "source": [
    "## Latitude vs. Temperature Plot"
   ]
  },
  {
   "cell_type": "code",
   "execution_count": 29,
   "metadata": {
    "scrolled": true
   },
   "outputs": [
    {
     "data": {
      "image/png": "[encoded data removed]",
      "text/plain": [
       "<Figure size 432x288 with 1 Axes>"
      ]
     },
     "metadata": {
      "needs_background": "light"
     },
     "output_type": "display_data"
    }
   ],
   "source": [
    "#Latitude vs Tempurature Plot\n",
    "x_values = city_weather[\"latitude\"]\n",
    "y_values = city_weather[\"max temp (F)\"]\n",
    "plt.scatter(x_values, y_values, marker=\"o\")\n",
    "\n",
    "# Incorporate the other graph properties\n",
    "plt.title(\"Max Temp Relative to Latitude in World Cities (8/03/2020)\")\n",
    "plt.ylabel(\"Max Temperature (F)\")\n",
    "plt.xlabel(\"Latitude\")\n",
    "plt.grid(True)\n",
    "\n",
    "# Save the figure\n",
    "plt.savefig(\"output_data/TemperaturevsLatitude.png\")\n",
    "\n",
    "# Show plot\n",
    "plt.show()"
   ]
  },
  {
   "cell_type": "markdown",
   "metadata": {},
   "source": [
    "## Latitude vs. Humidity Plot"
   ]
  },
  {
   "cell_type": "code",
   "execution_count": 30,
   "metadata": {},
   "outputs": [
    {
     "data": {
      "image/png": "[encoded data removed]",
      "text/plain": [
       "<Figure size 432x288 with 1 Axes>"
      ]
     },
     "metadata": {
      "needs_background": "light"
     },
     "output_type": "display_data"
    }
   ],
   "source": [
    "#Latitude vs Humidity Plot\n",
    "x_values = city_weather[\"latitude\"]\n",
    "y_values = city_weather[\"humidity\"]\n",
    "plt.scatter(x_values, y_values, marker=\"o\")\n",
    "\n",
    "# Incorporate the other graph properties\n",
    "plt.title(\"Humidity Relative to Latitude in World Cities (8/03/2020)\")\n",
    "plt.ylabel(\"Humidity (%)\")\n",
    "plt.xlabel(\"Latitude\")\n",
    "plt.grid(True)\n",
    "\n",
    "# Save the figure\n",
    "plt.savefig(\"output_data/HumidityvsLatitude.png\")\n",
    "\n",
    "# Show plot\n",
    "plt.show()"
   ]
  },
  {
   "cell_type": "markdown",
   "metadata": {},
   "source": [
    "## Latitude vs. Cloudiness Plot"
   ]
  },
  {
   "cell_type": "code",
   "execution_count": 31,
   "metadata": {},
   "outputs": [
    {
     "data": {
      "image/png": "[encoded data removed]",
      "text/plain": [
       "<Figure size 432x288 with 1 Axes>"
      ]
     },
     "metadata": {
      "needs_background": "light"
     },
     "output_type": "display_data"
    }
   ],
   "source": [
    "#Latitude vs Cloudiness Plot\n",
    "x_values = city_weather[\"latitude\"]\n",
    "y_values = city_weather[\"cloudiness\"]\n",
    "plt.scatter(x_values, y_values, marker=\"o\")\n",
    "\n",
    "# Incorporate the other graph properties\n",
    "plt.title(\"Cloudiness Relative to Latitude in World Cities (8/03/2020)\")\n",
    "plt.ylabel(\"Cloudiness (%)\")\n",
    "plt.xlabel(\"Latitude\")\n",
    "plt.grid(True)\n",
    "\n",
    "# Save the figure\n",
    "plt.savefig(\"output_data/CloudinessvsLatitude.png\")\n",
    "\n",
    "# Show plot\n",
    "plt.show()"
   ]
  },
  {
   "cell_type": "markdown",
   "metadata": {},
   "source": [
    "## Latitude vs. Wind Speed Plot"
   ]
  },
  {
   "cell_type": "code",
   "execution_count": 32,
   "metadata": {},
   "outputs": [
    {
     "data": {
      "image/png": "[encoded data removed]",
      "text/plain": [
       "<Figure size 432x288 with 1 Axes>"
      ]
     },
     "metadata": {
      "needs_background": "light"
     },
     "output_type": "display_data"
    }
   ],
   "source": [
    "#Latitude vs Wind Speed Plot\n",
    "x_values = city_weather[\"latitude\"]\n",
    "y_values = city_weather[\"windspeed\"]\n",
    "plt.scatter(x_values, y_values, marker=\"o\")\n",
    "\n",
    "# Incorporate the other graph properties\n",
    "plt.title(\"Wind Speed Relative to Latitude in World Cities (8/03/2020)\")\n",
    "plt.ylabel(\"Wind Speed (mph)\")\n",
    "plt.xlabel(\"Latitude\")\n",
    "plt.grid(True)\n",
    "\n",
    "# Save the figure\n",
    "plt.savefig(\"output_data/WindspeedvsLatitude.png\")\n",
    "\n",
    "# Show plot\n",
    "plt.show()"
   ]
  },
  {
   "cell_type": "markdown",
   "metadata": {},
   "source": [
    "## Linear Regression"
   ]
  },
  {
   "cell_type": "code",
   "execution_count": 13,
   "metadata": {},
   "outputs": [
    {
     "data": {
      "text/html": [
       "<div>\n",
       "<style scoped>\n",
       "    .dataframe tbody tr th:only-of-type {\n",
       "        vertical-align: middle;\n",
       "    }\n",
       "\n",
       "    .dataframe tbody tr th {\n",
       "        vertical-align: top;\n",
       "    }\n",
       "\n",
       "    .dataframe thead th {\n",
       "        text-align: right;\n",
       "    }\n",
       "</style>\n",
       "<table border=\"1\" class=\"dataframe\">\n",
       "  <thead>\n",
       "    <tr style=\"text-align: right;\">\n",
       "      <th></th>\n",
       "      <th>city</th>\n",
       "      <th>latitude</th>\n",
       "      <th>longitude</th>\n",
       "      <th>max temp (F)</th>\n",
       "      <th>humidity</th>\n",
       "      <th>cloudiness</th>\n",
       "      <th>windspeed</th>\n",
       "      <th>country</th>\n",
       "      <th>date</th>\n",
       "    </tr>\n",
       "  </thead>\n",
       "  <tbody>\n",
       "    <tr>\n",
       "      <th>2</th>\n",
       "      <td>Jamestown</td>\n",
       "      <td>42.10</td>\n",
       "      <td>-79.24</td>\n",
       "      <td>66.00</td>\n",
       "      <td>93</td>\n",
       "      <td>90</td>\n",
       "      <td>1.54</td>\n",
       "      <td>US</td>\n",
       "      <td>1596503427</td>\n",
       "    </tr>\n",
       "    <tr>\n",
       "      <th>3</th>\n",
       "      <td>Wuhu</td>\n",
       "      <td>31.34</td>\n",
       "      <td>118.38</td>\n",
       "      <td>84.20</td>\n",
       "      <td>79</td>\n",
       "      <td>75</td>\n",
       "      <td>8.95</td>\n",
       "      <td>CN</td>\n",
       "      <td>1596503427</td>\n",
       "    </tr>\n",
       "    <tr>\n",
       "      <th>4</th>\n",
       "      <td>Bonavista</td>\n",
       "      <td>48.65</td>\n",
       "      <td>-53.11</td>\n",
       "      <td>68.00</td>\n",
       "      <td>72</td>\n",
       "      <td>43</td>\n",
       "      <td>15.01</td>\n",
       "      <td>CA</td>\n",
       "      <td>1596503313</td>\n",
       "    </tr>\n",
       "    <tr>\n",
       "      <th>9</th>\n",
       "      <td>Margate</td>\n",
       "      <td>51.38</td>\n",
       "      <td>1.39</td>\n",
       "      <td>61.00</td>\n",
       "      <td>79</td>\n",
       "      <td>54</td>\n",
       "      <td>3.58</td>\n",
       "      <td>GB</td>\n",
       "      <td>1596503231</td>\n",
       "    </tr>\n",
       "    <tr>\n",
       "      <th>12</th>\n",
       "      <td>Sal Rei</td>\n",
       "      <td>16.18</td>\n",
       "      <td>-22.92</td>\n",
       "      <td>78.80</td>\n",
       "      <td>83</td>\n",
       "      <td>75</td>\n",
       "      <td>14.99</td>\n",
       "      <td>CV</td>\n",
       "      <td>1596503429</td>\n",
       "    </tr>\n",
       "    <tr>\n",
       "      <th>...</th>\n",
       "      <td>...</td>\n",
       "      <td>...</td>\n",
       "      <td>...</td>\n",
       "      <td>...</td>\n",
       "      <td>...</td>\n",
       "      <td>...</td>\n",
       "      <td>...</td>\n",
       "      <td>...</td>\n",
       "      <td>...</td>\n",
       "    </tr>\n",
       "    <tr>\n",
       "      <th>540</th>\n",
       "      <td>Umluj</td>\n",
       "      <td>25.02</td>\n",
       "      <td>37.27</td>\n",
       "      <td>84.18</td>\n",
       "      <td>48</td>\n",
       "      <td>0</td>\n",
       "      <td>5.37</td>\n",
       "      <td>SA</td>\n",
       "      <td>1596503559</td>\n",
       "    </tr>\n",
       "    <tr>\n",
       "      <th>541</th>\n",
       "      <td>Muros</td>\n",
       "      <td>42.78</td>\n",
       "      <td>-9.06</td>\n",
       "      <td>66.00</td>\n",
       "      <td>84</td>\n",
       "      <td>30</td>\n",
       "      <td>7.18</td>\n",
       "      <td>ES</td>\n",
       "      <td>1596503560</td>\n",
       "    </tr>\n",
       "    <tr>\n",
       "      <th>542</th>\n",
       "      <td>At-Bashi</td>\n",
       "      <td>41.17</td>\n",
       "      <td>75.81</td>\n",
       "      <td>56.08</td>\n",
       "      <td>50</td>\n",
       "      <td>0</td>\n",
       "      <td>0.47</td>\n",
       "      <td>KG</td>\n",
       "      <td>1596503560</td>\n",
       "    </tr>\n",
       "    <tr>\n",
       "      <th>544</th>\n",
       "      <td>Natitingou</td>\n",
       "      <td>10.30</td>\n",
       "      <td>1.38</td>\n",
       "      <td>73.40</td>\n",
       "      <td>94</td>\n",
       "      <td>40</td>\n",
       "      <td>6.93</td>\n",
       "      <td>BJ</td>\n",
       "      <td>1596503560</td>\n",
       "    </tr>\n",
       "    <tr>\n",
       "      <th>545</th>\n",
       "      <td>Batesville</td>\n",
       "      <td>35.77</td>\n",
       "      <td>-91.64</td>\n",
       "      <td>80.60</td>\n",
       "      <td>57</td>\n",
       "      <td>1</td>\n",
       "      <td>4.70</td>\n",
       "      <td>US</td>\n",
       "      <td>1596503340</td>\n",
       "    </tr>\n",
       "  </tbody>\n",
       "</table>\n",
       "<p>375 rows × 9 columns</p>\n",
       "</div>"
      ],
      "text/plain": [
       "           city  latitude  longitude  max temp (F)  humidity  cloudiness  \\\n",
       "2     Jamestown     42.10     -79.24         66.00        93          90   \n",
       "3          Wuhu     31.34     118.38         84.20        79          75   \n",
       "4     Bonavista     48.65     -53.11         68.00        72          43   \n",
       "9       Margate     51.38       1.39         61.00        79          54   \n",
       "12      Sal Rei     16.18     -22.92         78.80        83          75   \n",
       "..          ...       ...        ...           ...       ...         ...   \n",
       "540       Umluj     25.02      37.27         84.18        48           0   \n",
       "541       Muros     42.78      -9.06         66.00        84          30   \n",
       "542    At-Bashi     41.17      75.81         56.08        50           0   \n",
       "544  Natitingou     10.30       1.38         73.40        94          40   \n",
       "545  Batesville     35.77     -91.64         80.60        57           1   \n",
       "\n",
       "     windspeed country        date  \n",
       "2         1.54      US  1596503427  \n",
       "3         8.95      CN  1596503427  \n",
       "4        15.01      CA  1596503313  \n",
       "9         3.58      GB  1596503231  \n",
       "12       14.99      CV  1596503429  \n",
       "..         ...     ...         ...  \n",
       "540       5.37      SA  1596503559  \n",
       "541       7.18      ES  1596503560  \n",
       "542       0.47      KG  1596503560  \n",
       "544       6.93      BJ  1596503560  \n",
       "545       4.70      US  1596503340  \n",
       "\n",
       "[375 rows x 9 columns]"
      ]
     },
     "execution_count": 13,
     "metadata": {},
     "output_type": "execute_result"
    }
   ],
   "source": [
    "# Create Northern and Southern Hemisphere DataFrames\n",
    "northern = city_weather[city_weather[\"latitude\"] >= 0]\n",
    "northern"
   ]
  },
  {
   "cell_type": "code",
   "execution_count": 14,
   "metadata": {},
   "outputs": [
    {
     "data": {
      "text/html": [
       "<div>\n",
       "<style scoped>\n",
       "    .dataframe tbody tr th:only-of-type {\n",
       "        vertical-align: middle;\n",
       "    }\n",
       "\n",
       "    .dataframe tbody tr th {\n",
       "        vertical-align: top;\n",
       "    }\n",
       "\n",
       "    .dataframe thead th {\n",
       "        text-align: right;\n",
       "    }\n",
       "</style>\n",
       "<table border=\"1\" class=\"dataframe\">\n",
       "  <thead>\n",
       "    <tr style=\"text-align: right;\">\n",
       "      <th></th>\n",
       "      <th>city</th>\n",
       "      <th>latitude</th>\n",
       "      <th>longitude</th>\n",
       "      <th>max temp (F)</th>\n",
       "      <th>humidity</th>\n",
       "      <th>cloudiness</th>\n",
       "      <th>windspeed</th>\n",
       "      <th>country</th>\n",
       "      <th>date</th>\n",
       "    </tr>\n",
       "  </thead>\n",
       "  <tbody>\n",
       "    <tr>\n",
       "      <th>0</th>\n",
       "      <td>Benalla</td>\n",
       "      <td>-36.55</td>\n",
       "      <td>145.98</td>\n",
       "      <td>48.99</td>\n",
       "      <td>70</td>\n",
       "      <td>40</td>\n",
       "      <td>11.41</td>\n",
       "      <td>AU</td>\n",
       "      <td>1596503427</td>\n",
       "    </tr>\n",
       "    <tr>\n",
       "      <th>1</th>\n",
       "      <td>Atuona</td>\n",
       "      <td>-9.80</td>\n",
       "      <td>-139.03</td>\n",
       "      <td>79.36</td>\n",
       "      <td>72</td>\n",
       "      <td>0</td>\n",
       "      <td>13.44</td>\n",
       "      <td>PF</td>\n",
       "      <td>1596503427</td>\n",
       "    </tr>\n",
       "    <tr>\n",
       "      <th>5</th>\n",
       "      <td>Sechura</td>\n",
       "      <td>-5.56</td>\n",
       "      <td>-80.82</td>\n",
       "      <td>62.73</td>\n",
       "      <td>79</td>\n",
       "      <td>0</td>\n",
       "      <td>16.93</td>\n",
       "      <td>PE</td>\n",
       "      <td>1596503428</td>\n",
       "    </tr>\n",
       "    <tr>\n",
       "      <th>6</th>\n",
       "      <td>Hithadhoo</td>\n",
       "      <td>-0.60</td>\n",
       "      <td>73.08</td>\n",
       "      <td>81.73</td>\n",
       "      <td>79</td>\n",
       "      <td>100</td>\n",
       "      <td>11.92</td>\n",
       "      <td>MV</td>\n",
       "      <td>1596503428</td>\n",
       "    </tr>\n",
       "    <tr>\n",
       "      <th>7</th>\n",
       "      <td>Puerto Ayora</td>\n",
       "      <td>-0.74</td>\n",
       "      <td>-90.35</td>\n",
       "      <td>68.00</td>\n",
       "      <td>95</td>\n",
       "      <td>99</td>\n",
       "      <td>3.00</td>\n",
       "      <td>EC</td>\n",
       "      <td>1596503428</td>\n",
       "    </tr>\n",
       "    <tr>\n",
       "      <th>...</th>\n",
       "      <td>...</td>\n",
       "      <td>...</td>\n",
       "      <td>...</td>\n",
       "      <td>...</td>\n",
       "      <td>...</td>\n",
       "      <td>...</td>\n",
       "      <td>...</td>\n",
       "      <td>...</td>\n",
       "      <td>...</td>\n",
       "    </tr>\n",
       "    <tr>\n",
       "      <th>525</th>\n",
       "      <td>São Miguel do Araguaia</td>\n",
       "      <td>-13.28</td>\n",
       "      <td>-50.16</td>\n",
       "      <td>72.59</td>\n",
       "      <td>40</td>\n",
       "      <td>4</td>\n",
       "      <td>6.29</td>\n",
       "      <td>BR</td>\n",
       "      <td>1596503556</td>\n",
       "    </tr>\n",
       "    <tr>\n",
       "      <th>528</th>\n",
       "      <td>Menongue</td>\n",
       "      <td>-14.66</td>\n",
       "      <td>17.69</td>\n",
       "      <td>46.94</td>\n",
       "      <td>52</td>\n",
       "      <td>0</td>\n",
       "      <td>3.67</td>\n",
       "      <td>AO</td>\n",
       "      <td>1596503557</td>\n",
       "    </tr>\n",
       "    <tr>\n",
       "      <th>532</th>\n",
       "      <td>Comarapa</td>\n",
       "      <td>-17.90</td>\n",
       "      <td>-64.48</td>\n",
       "      <td>52.27</td>\n",
       "      <td>86</td>\n",
       "      <td>0</td>\n",
       "      <td>1.95</td>\n",
       "      <td>BO</td>\n",
       "      <td>1596503558</td>\n",
       "    </tr>\n",
       "    <tr>\n",
       "      <th>536</th>\n",
       "      <td>Bundaberg</td>\n",
       "      <td>-24.85</td>\n",
       "      <td>152.35</td>\n",
       "      <td>69.80</td>\n",
       "      <td>49</td>\n",
       "      <td>75</td>\n",
       "      <td>0.76</td>\n",
       "      <td>AU</td>\n",
       "      <td>1596503559</td>\n",
       "    </tr>\n",
       "    <tr>\n",
       "      <th>543</th>\n",
       "      <td>Manaus</td>\n",
       "      <td>-3.10</td>\n",
       "      <td>-60.02</td>\n",
       "      <td>82.40</td>\n",
       "      <td>69</td>\n",
       "      <td>19</td>\n",
       "      <td>3.36</td>\n",
       "      <td>BR</td>\n",
       "      <td>1596503560</td>\n",
       "    </tr>\n",
       "  </tbody>\n",
       "</table>\n",
       "<p>171 rows × 9 columns</p>\n",
       "</div>"
      ],
      "text/plain": [
       "                       city  latitude  longitude  max temp (F)  humidity  \\\n",
       "0                   Benalla    -36.55     145.98         48.99        70   \n",
       "1                    Atuona     -9.80    -139.03         79.36        72   \n",
       "5                   Sechura     -5.56     -80.82         62.73        79   \n",
       "6                 Hithadhoo     -0.60      73.08         81.73        79   \n",
       "7              Puerto Ayora     -0.74     -90.35         68.00        95   \n",
       "..                      ...       ...        ...           ...       ...   \n",
       "525  São Miguel do Araguaia    -13.28     -50.16         72.59        40   \n",
       "528                Menongue    -14.66      17.69         46.94        52   \n",
       "532                Comarapa    -17.90     -64.48         52.27        86   \n",
       "536               Bundaberg    -24.85     152.35         69.80        49   \n",
       "543                  Manaus     -3.10     -60.02         82.40        69   \n",
       "\n",
       "     cloudiness  windspeed country        date  \n",
       "0            40      11.41      AU  1596503427  \n",
       "1             0      13.44      PF  1596503427  \n",
       "5             0      16.93      PE  1596503428  \n",
       "6           100      11.92      MV  1596503428  \n",
       "7            99       3.00      EC  1596503428  \n",
       "..          ...        ...     ...         ...  \n",
       "525           4       6.29      BR  1596503556  \n",
       "528           0       3.67      AO  1596503557  \n",
       "532           0       1.95      BO  1596503558  \n",
       "536          75       0.76      AU  1596503559  \n",
       "543          19       3.36      BR  1596503560  \n",
       "\n",
       "[171 rows x 9 columns]"
      ]
     },
     "execution_count": 14,
     "metadata": {},
     "output_type": "execute_result"
    }
   ],
   "source": [
    "southern = city_weather[city_weather[\"latitude\"] <= 0]\n",
    "southern"
   ]
  },
  {
   "cell_type": "markdown",
   "metadata": {},
   "source": [
    "####  Northern Hemisphere - Max Temp vs. Latitude Linear Regression"
   ]
  },
  {
   "cell_type": "code",
   "execution_count": 33,
   "metadata": {},
   "outputs": [
    {
     "name": "stdout",
     "output_type": "stream",
     "text": [
      "The r-squared is: 0.44362540480648904\n"
     ]
    },
    {
     "data": {
      "image/png": "[encoded data removed]",
      "text/plain": [
       "<Figure size 432x288 with 1 Axes>"
      ]
     },
     "metadata": {
      "needs_background": "light"
     },
     "output_type": "display_data"
    },
    {
     "data": {
      "text/plain": [
       "<Figure size 432x288 with 0 Axes>"
      ]
     },
     "metadata": {},
     "output_type": "display_data"
    }
   ],
   "source": [
    "# Print out the r-squared value along with the plot.\n",
    "x_values = northern[\"latitude\"]\n",
    "y_values = northern[\"max temp (F)\"]\n",
    "(slope, intercept, rvalue, pvalue, stderr) = linregress(x_values, y_values)\n",
    "regress_values = x_values * slope + intercept\n",
    "line_eq = \"y = \" + str(round(slope,2)) + \"x + \" + str(round(intercept,2))\n",
    "plt.scatter(x_values,y_values)\n",
    "plt.plot(x_values,regress_values,\"r-\")\n",
    "plt.annotate(line_eq,(6,45),fontsize=15,color=\"red\")\n",
    "plt.title(\"Max Temp Relative to Latitude in Northern Hemisphere Cities (8/03/2020)\")\n",
    "plt.xlabel(\"Latitude\")\n",
    "plt.ylabel(\"Max Temperature (F)\")\n",
    "plt.grid(True)\n",
    "print(f\"The r-squared is: {rvalue**2}\")\n",
    "plt.show()\n",
    "\n",
    "# Save the figure\n",
    "plt.savefig(\"output_data/NorthTemperaturevsLatitude.png\")"
   ]
  },
  {
   "cell_type": "markdown",
   "metadata": {},
   "source": [
    "####  Southern Hemisphere - Max Temp vs. Latitude Linear Regression"
   ]
  },
  {
   "cell_type": "code",
   "execution_count": 34,
   "metadata": {},
   "outputs": [
    {
     "name": "stdout",
     "output_type": "stream",
     "text": [
      "The r-squared is: 0.5445918481085209\n"
     ]
    },
    {
     "data": {
      "image/png": "[encoded data removed]",
      "text/plain": [
       "<Figure size 432x288 with 1 Axes>"
      ]
     },
     "metadata": {
      "needs_background": "light"
     },
     "output_type": "display_data"
    },
    {
     "data": {
      "text/plain": [
       "<Figure size 432x288 with 0 Axes>"
      ]
     },
     "metadata": {},
     "output_type": "display_data"
    }
   ],
   "source": [
    "# Print out the r-squared value along with the plot.\n",
    "x_values = southern[\"latitude\"]\n",
    "y_values = southern[\"max temp (F)\"]\n",
    "(slope, intercept, rvalue, pvalue, stderr) = linregress(x_values, y_values)\n",
    "regress_values = x_values * slope + intercept\n",
    "line_eq = \"y = \" + str(round(slope,2)) + \"x + \" + str(round(intercept,2))\n",
    "plt.scatter(x_values,y_values)\n",
    "plt.plot(x_values,regress_values,\"r-\")\n",
    "plt.annotate(line_eq,(-55,85),fontsize=15,color=\"red\")\n",
    "plt.title(\"Max Temp Relative to Latitude in Southern Hemisphere Cities (8/03/2020)\")\n",
    "plt.xlabel(\"Latitude\")\n",
    "plt.ylabel(\"Max Temperature (F)\")\n",
    "plt.grid(True)\n",
    "print(f\"The r-squared is: {rvalue**2}\")\n",
    "plt.show()\n",
    "\n",
    "# Save the figure\n",
    "plt.savefig(\"output_data/SouthTemperaturevsLatitude.png\")"
   ]
  },
  {
   "cell_type": "code",
   "execution_count": 17,
   "metadata": {},
   "outputs": [],
   "source": [
    "#These scatter plots and r-values indicate that the maximum temperature tends to increas the closer a city is to the equator."
   ]
  },
  {
   "cell_type": "markdown",
   "metadata": {},
   "source": [
    "####  Northern Hemisphere - Humidity (%) vs. Latitude Linear Regression"
   ]
  },
  {
   "cell_type": "code",
   "execution_count": 35,
   "metadata": {},
   "outputs": [
    {
     "name": "stdout",
     "output_type": "stream",
     "text": [
      "The r-squared is: 0.006936138821639972\n"
     ]
    },
    {
     "data": {
      "image/png": "[encoded data removed]",
      "text/plain": [
       "<Figure size 432x288 with 1 Axes>"
      ]
     },
     "metadata": {
      "needs_background": "light"
     },
     "output_type": "display_data"
    },
    {
     "data": {
      "text/plain": [
       "<Figure size 432x288 with 0 Axes>"
      ]
     },
     "metadata": {},
     "output_type": "display_data"
    }
   ],
   "source": [
    "# Print out the r-squared value along with the plot.\n",
    "x_values = northern[\"latitude\"]\n",
    "y_values = northern[\"humidity\"]\n",
    "(slope, intercept, rvalue, pvalue, stderr) = linregress(x_values, y_values)\n",
    "regress_values = x_values * slope + intercept\n",
    "line_eq = \"y = \" + str(round(slope,2)) + \"x + \" + str(round(intercept,2))\n",
    "plt.scatter(x_values,y_values)\n",
    "plt.plot(x_values,regress_values,\"r-\")\n",
    "plt.annotate(line_eq,(40,15),fontsize=15,color=\"red\")\n",
    "plt.title(\"Humidity Relative to Latitude in Northern Hemisphere Cities (8/03/2020)\")\n",
    "plt.xlabel(\"Latitude\")\n",
    "plt.ylabel(\"Humidity (%)\")\n",
    "plt.grid(True)\n",
    "print(f\"The r-squared is: {rvalue**2}\")\n",
    "plt.show()\n",
    "\n",
    "# Save the figure\n",
    "plt.savefig(\"output_data/NorthHumidityvsLatitude.png\")"
   ]
  },
  {
   "cell_type": "markdown",
   "metadata": {},
   "source": [
    "####  Southern Hemisphere - Humidity (%) vs. Latitude Linear Regression"
   ]
  },
  {
   "cell_type": "code",
   "execution_count": 36,
   "metadata": {},
   "outputs": [
    {
     "name": "stdout",
     "output_type": "stream",
     "text": [
      "The r-squared is: 0.0005511534096336091\n"
     ]
    },
    {
     "data": {
      "image/png": "[encoded data removed]",
      "text/plain": [
       "<Figure size 432x288 with 1 Axes>"
      ]
     },
     "metadata": {
      "needs_background": "light"
     },
     "output_type": "display_data"
    },
    {
     "data": {
      "text/plain": [
       "<Figure size 432x288 with 0 Axes>"
      ]
     },
     "metadata": {},
     "output_type": "display_data"
    }
   ],
   "source": [
    "# Print out the r-squared value along with the plot.\n",
    "x_values = southern[\"latitude\"]\n",
    "y_values = southern[\"humidity\"]\n",
    "(slope, intercept, rvalue, pvalue, stderr) = linregress(x_values, y_values)\n",
    "regress_values = x_values * slope + intercept\n",
    "line_eq = \"y = \" + str(round(slope,2)) + \"x + \" + str(round(intercept,2))\n",
    "plt.scatter(x_values,y_values)\n",
    "plt.plot(x_values,regress_values,\"r-\")\n",
    "plt.annotate(line_eq,(-55,10),fontsize=15,color=\"red\")\n",
    "plt.title(\"Humidity Relative to Latitude in Southern Hemisphere Cities (8/03/2020)\")\n",
    "plt.xlabel(\"Latitude\")\n",
    "plt.ylabel(\"Humidity (%)\")\n",
    "plt.grid(True)\n",
    "print(f\"The r-squared is: {rvalue**2}\")\n",
    "plt.show()\n",
    "\n",
    "# Save the figure\n",
    "plt.savefig(\"output_data/SouthHumidityvsLatitude.png\")"
   ]
  },
  {
   "cell_type": "code",
   "execution_count": 21,
   "metadata": {},
   "outputs": [],
   "source": [
    "#These scatter plots and r-values indicate that the latitude of a city does not have a major affect on the humidity."
   ]
  },
  {
   "cell_type": "markdown",
   "metadata": {},
   "source": [
    "####  Northern Hemisphere - Cloudiness (%) vs. Latitude Linear Regression"
   ]
  },
  {
   "cell_type": "code",
   "execution_count": 37,
   "metadata": {},
   "outputs": [
    {
     "name": "stdout",
     "output_type": "stream",
     "text": [
      "The r-squared is: 0.000315184224179909\n"
     ]
    },
    {
     "data": {
      "image/png": "[encoded data removed]",
      "text/plain": [
       "<Figure size 432x288 with 1 Axes>"
      ]
     },
     "metadata": {
      "needs_background": "light"
     },
     "output_type": "display_data"
    },
    {
     "data": {
      "text/plain": [
       "<Figure size 432x288 with 0 Axes>"
      ]
     },
     "metadata": {},
     "output_type": "display_data"
    }
   ],
   "source": [
    "# Print out the r-squared value along with the plot.\n",
    "x_values = northern[\"latitude\"]\n",
    "y_values = northern[\"cloudiness\"]\n",
    "(slope, intercept, rvalue, pvalue, stderr) = linregress(x_values, y_values)\n",
    "regress_values = x_values * slope + intercept\n",
    "line_eq = \"y = \" + str(round(slope,2)) + \"x + \" + str(round(intercept,2))\n",
    "plt.scatter(x_values,y_values)\n",
    "plt.plot(x_values,regress_values,\"r-\")\n",
    "plt.annotate(line_eq,(10,60),fontsize=15,color=\"red\")\n",
    "plt.title(\"Cloudiness Relative to Latitude in Northern Hemisphere Cities (8/03/2020)\")\n",
    "plt.xlabel(\"Latitude\")\n",
    "plt.ylabel(\"Cloudiness (%)\")\n",
    "plt.grid(True)\n",
    "print(f\"The r-squared is: {rvalue**2}\")\n",
    "plt.show()\n",
    "\n",
    "# Save the figure\n",
    "plt.savefig(\"output_data/NorthCloudinessvsLatitude.png\")"
   ]
  },
  {
   "cell_type": "markdown",
   "metadata": {},
   "source": [
    "####  Southern Hemisphere - Cloudiness (%) vs. Latitude Linear Regression"
   ]
  },
  {
   "cell_type": "code",
   "execution_count": 38,
   "metadata": {},
   "outputs": [
    {
     "name": "stdout",
     "output_type": "stream",
     "text": [
      "The r-squared is: 0.001719127708544532\n"
     ]
    },
    {
     "data": {
      "image/png": "[encoded data removed]",
      "text/plain": [
       "<Figure size 432x288 with 1 Axes>"
      ]
     },
     "metadata": {
      "needs_background": "light"
     },
     "output_type": "display_data"
    },
    {
     "data": {
      "text/plain": [
       "<Figure size 432x288 with 0 Axes>"
      ]
     },
     "metadata": {},
     "output_type": "display_data"
    }
   ],
   "source": [
    "# Print out the r-squared value along with the plot.\n",
    "x_values = southern[\"latitude\"]\n",
    "y_values = southern[\"cloudiness\"]\n",
    "(slope, intercept, rvalue, pvalue, stderr) = linregress(x_values, y_values)\n",
    "regress_values = x_values * slope + intercept\n",
    "line_eq = \"y = \" + str(round(slope,2)) + \"x + \" + str(round(intercept,2))\n",
    "plt.scatter(x_values,y_values)\n",
    "plt.plot(x_values,regress_values,\"r-\")\n",
    "plt.annotate(line_eq,(-55,10),fontsize=15,color=\"red\")\n",
    "plt.title(\"Cloudiness Relative to Latitude in Southern Hemisphere Cities (8/03/2020)\")\n",
    "plt.xlabel(\"Latitude\")\n",
    "plt.ylabel(\"Cloudiness (%)\")\n",
    "plt.grid(True)\n",
    "print(f\"The r-squared is: {rvalue**2}\")\n",
    "plt.show()\n",
    "\n",
    "# Save the figure\n",
    "plt.savefig(\"output_data/SouthCloudinessvsLatitude.png\")"
   ]
  },
  {
   "cell_type": "code",
   "execution_count": 25,
   "metadata": {},
   "outputs": [],
   "source": [
    "#These scatter plots indicate that there is minimal relationship between latitude and cloudiness."
   ]
  },
  {
   "cell_type": "markdown",
   "metadata": {},
   "source": [
    "####  Northern Hemisphere - Wind Speed (mph) vs. Latitude Linear Regression"
   ]
  },
  {
   "cell_type": "code",
   "execution_count": 39,
   "metadata": {},
   "outputs": [
    {
     "name": "stdout",
     "output_type": "stream",
     "text": [
      "The r-squared is: 0.0032944555379906247\n"
     ]
    },
    {
     "data": {
      "image/png": "[encoded data removed]",
      "text/plain": [
       "<Figure size 432x288 with 1 Axes>"
      ]
     },
     "metadata": {
      "needs_background": "light"
     },
     "output_type": "display_data"
    },
    {
     "data": {
      "text/plain": [
       "<Figure size 432x288 with 0 Axes>"
      ]
     },
     "metadata": {},
     "output_type": "display_data"
    }
   ],
   "source": [
    "# Print out the r-squared value along with the plot.\n",
    "x_values = northern[\"latitude\"]\n",
    "y_values = northern[\"windspeed\"]\n",
    "(slope, intercept, rvalue, pvalue, stderr) = linregress(x_values, y_values)\n",
    "regress_values = x_values * slope + intercept\n",
    "line_eq = \"y = \" + str(round(slope,2)) + \"x + \" + str(round(intercept,2))\n",
    "plt.scatter(x_values,y_values)\n",
    "plt.plot(x_values,regress_values,\"r-\")\n",
    "plt.annotate(line_eq,(35,27),fontsize=15,color=\"red\")\n",
    "plt.title(\"Wind Speed Relative to Latitude in Northern Hemisphere Cities (8/03/2020)\")\n",
    "plt.xlabel(\"Latitude\")\n",
    "plt.ylabel(\"Wind Speed (mph)\")\n",
    "plt.grid(True)\n",
    "print(f\"The r-squared is: {rvalue**2}\")\n",
    "plt.show()\n",
    "\n",
    "# Save the figure\n",
    "plt.savefig(\"output_data/NorthWindspeedvsLatitude.png\")"
   ]
  },
  {
   "cell_type": "markdown",
   "metadata": {},
   "source": [
    "####  Southern Hemisphere - Wind Speed (mph) vs. Latitude Linear Regression"
   ]
  },
  {
   "cell_type": "code",
   "execution_count": 40,
   "metadata": {},
   "outputs": [
    {
     "name": "stdout",
     "output_type": "stream",
     "text": [
      "The r-squared is: 0.038368132214323565\n"
     ]
    },
    {
     "data": {
      "image/png": "[encoded data removed]",
      "text/plain": [
       "<Figure size 432x288 with 1 Axes>"
      ]
     },
     "metadata": {
      "needs_background": "light"
     },
     "output_type": "display_data"
    },
    {
     "data": {
      "text/plain": [
       "<Figure size 432x288 with 0 Axes>"
      ]
     },
     "metadata": {},
     "output_type": "display_data"
    }
   ],
   "source": [
    "# Print out the r-squared value along with the plot.\n",
    "x_values = southern[\"latitude\"]\n",
    "y_values = southern[\"windspeed\"]\n",
    "(slope, intercept, rvalue, pvalue, stderr) = linregress(x_values, y_values)\n",
    "regress_values = x_values * slope + intercept\n",
    "line_eq = \"y = \" + str(round(slope,2)) + \"x + \" + str(round(intercept,2))\n",
    "plt.scatter(x_values,y_values)\n",
    "plt.plot(x_values,regress_values,\"r-\")\n",
    "plt.annotate(line_eq,(-55,16),fontsize=15,color=\"red\")\n",
    "plt.title(\"Wind Speed Relative to Latitude in Southern Hemisphere Cities (8/03/2020)\")\n",
    "plt.xlabel(\"Latitude\")\n",
    "plt.ylabel(\"Wind Speed (mph))\")\n",
    "plt.grid(True)\n",
    "print(f\"The r-squared is: {rvalue**2}\")\n",
    "plt.show()\n",
    "\n",
    "# Save the figure\n",
    "plt.savefig(\"output_data/SouthWindspeedvsLatitude.png\")"
   ]
  },
  {
   "cell_type": "code",
   "execution_count": 28,
   "metadata": {},
   "outputs": [],
   "source": [
    "#These scatter plots and r-values indicate that there is minimal relationship between latitude and wind speed."
   ]
  }
 ],
 "metadata": {
  "anaconda-cloud": {},
  "kernel_info": {
   "name": "python3"
  },
  "kernelspec": {
   "display_name": "Python 3",
   "language": "python",
   "name": "python3"
  },
  "language_info": {
   "codemirror_mode": {
    "name": "ipython",
    "version": 3
   },
   "file_extension": ".py",
   "mimetype": "text/x-python",
   "name": "python",
   "nbconvert_exporter": "python",
   "pygments_lexer": "ipython3",
   "version": "3.6.10"
  },
  "latex_envs": {
   "LaTeX_envs_menu_present": true,
   "autoclose": false,
   "autocomplete": true,
   "bibliofile": "biblio.bib",
   "cite_by": "apalike",
   "current_citInitial": 1,
   "eqLabelWithNumbers": true,
   "eqNumInitial": 1,
   "hotkeys": {
    "equation": "Ctrl-E",
    "itemize": "Ctrl-I"
   },
   "labels_anchors": false,
   "latex_user_defs": false,
   "report_style_numbering": false,
   "user_envs_cfg": false
  },
  "nteract": {
   "version": "0.12.3"
  }
 },
 "nbformat": 4,
 "nbformat_minor": 2
}
